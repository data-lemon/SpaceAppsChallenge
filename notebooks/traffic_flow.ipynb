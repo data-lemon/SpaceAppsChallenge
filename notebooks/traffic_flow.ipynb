{
 "cells": [
  {
   "cell_type": "code",
   "execution_count": 25,
   "metadata": {},
   "outputs": [],
   "source": [
    "import pandas as pd\n",
    "import requests\n",
    "import json"
   ]
  },
  {
   "cell_type": "markdown",
   "metadata": {},
   "source": [
    "# Use Highways England Api to acquire Traffic Flow Data"
   ]
  },
  {
   "cell_type": "code",
   "execution_count": 31,
   "metadata": {},
   "outputs": [],
   "source": [
    "# Use Highways England Api to get \n",
    "def get_all_sites():\n",
    "    return requests.get('http://webtris.highwaysengland.co.uk/api/v1/sites')"
   ]
  },
  {
   "cell_type": "code",
   "execution_count": 33,
   "metadata": {},
   "outputs": [],
   "source": [
    "sites = get_all_sites()"
   ]
  },
  {
   "cell_type": "code",
   "execution_count": 48,
   "metadata": {},
   "outputs": [],
   "source": [
    "with open('C:\\\\Users\\\\U45720\\\\Documents\\\\GitLab\\\\human_factors_space_apps\\\\data\\\\raw\\\\sites.json','w') as f:\n",
    "    json.dump(sites.json(),f)"
   ]
  },
  {
   "cell_type": "code",
   "execution_count": 50,
   "metadata": {},
   "outputs": [],
   "source": [
    "sites_rows = sites.json()['sites']"
   ]
  },
  {
   "cell_type": "code",
   "execution_count": 88,
   "metadata": {},
   "outputs": [],
   "source": [
    "def request_report(\n",
    "    report_type :str,\n",
    "    site_ids : list,\n",
    "    start_date : str,\n",
    "    end_date : str,\n",
    "    page : int,\n",
    "    page_size : int\n",
    "):\n",
    "    \"\"\"\n",
    "    Returns Report Data from a list of traffic sites in Json Format\n",
    "    \n",
    "    Args:\n",
    "    \n",
    "        report_type(str) : can choose between Daily, Monthly, Yearly\n",
    "        \n",
    "        site_ids(list) : list of site ids\n",
    "        \n",
    "        start_date(str) : datetime str with format %d%m%Y\n",
    "        \n",
    "        end_date(str): datetime str with format %d%m%Y\n",
    "        \n",
    "        page(int) : Select how many pages the json should return in\n",
    "        \n",
    "        page_size(int) : Select the page size\n",
    "        \n",
    "    Returns:\n",
    "    \n",
    "        Result: Json file\n",
    "    \"\"\"\n",
    "    formatted_site_ids = '%C'.join(site_ids)\n",
    "    url = f'http://webtris.highwaysengland.co.uk/api/v1/reports/{report_type}?sites={formatted_site_ids}&start_date={start_date}&end_date={end_date}&page={page}&page_size={page_size}'\n",
    "\n",
    "    return requests.get(url)"
   ]
  },
  {
   "cell_type": "code",
   "execution_count": 284,
   "metadata": {},
   "outputs": [],
   "source": [
    "#e.g.\n",
    "report = request_report(report_type='Monthly',site_ids = ['2'],start_date = '01012020',end_date = '30052020')"
   ]
  },
  {
   "cell_type": "code",
   "execution_count": 202,
   "metadata": {},
   "outputs": [],
   "source": [
    "def get_traffic_flow(report_data):\n",
    "    # Parse each entry in the report data to get the Traffic Flow values for each day of the month\n",
    "    flow_value_per_month = []\n",
    "    for month_no in range(len(report_data)):\n",
    "        for entry in report_data[month_no]['Days']:\n",
    "            flow_value_per_month.append([entry['DayNumber'].rjust(2,'0')+' '+ report_data[month_no]['Month'], entry['FlowValue']])\n",
    "    \n",
    "    return flow_value_per_month"
   ]
  },
  {
   "cell_type": "code",
   "execution_count": 286,
   "metadata": {},
   "outputs": [],
   "source": [
    "# Get the Data Format the Data will be in after being parsed\n",
    "dates = [i[0] for i in get_traffic_flow(report.json()['MonthCollection'])]"
   ]
  },
  {
   "cell_type": "code",
   "execution_count": 266,
   "metadata": {},
   "outputs": [],
   "source": [
    "# Dictionary to be converted to dataframe after being populated with ALL the Traffic Flow data for the Space Apps Challenge\n",
    "_dict = {}\n",
    "for i in dates:\n",
    "    _dict[i] = {}"
   ]
  },
  {
   "cell_type": "code",
   "execution_count": 270,
   "metadata": {},
   "outputs": [
    {
     "name": "stderr",
     "output_type": "stream",
     "text": [
      "\n",
      "\n",
      "0it [00:00, ?it/s]\n",
      "\n",
      "2it [00:00, 12.48it/s]\n",
      "\n",
      "3it [00:00,  9.52it/s]\n",
      "\n",
      "4it [00:00,  8.22it/s]"
     ]
    }
   ],
   "source": [
    "for idx,row in tqdm(enumerate(sites_rows)):\n",
    "    # If the Traffic Site is active it is taken into consideration\n",
    "    if row['Status'] == 'Active':\n",
    "        report = request_report(report_type='Monthly',site_ids = [row['Id']],start_date = '01012020',end_date = '30052020')\n",
    "        # If the HTTPS status code is succesful then append to dictionary\n",
    "        if report.status_code == 200:\n",
    "            report_flow_data = get_traffic_flow(report.json()['MonthCollection'])\n",
    "            for entry in report_flow_data:\n",
    "                _dict[entry[0]][row['Id']] = entry[1]"
   ]
  },
  {
   "cell_type": "code",
   "execution_count": 262,
   "metadata": {},
   "outputs": [],
   "source": [
    "df = pd.DataFrame(_dict)"
   ]
  },
  {
   "cell_type": "code",
   "execution_count": 297,
   "metadata": {},
   "outputs": [],
   "source": [
    "df = df.replace('', '0', regex=True)"
   ]
  },
  {
   "cell_type": "code",
   "execution_count": 301,
   "metadata": {},
   "outputs": [],
   "source": [
    "df = df.replace(np.NaN, '0', regex=True)"
   ]
  },
  {
   "cell_type": "code",
   "execution_count": 302,
   "metadata": {},
   "outputs": [],
   "source": [
    "for column in df.columns:\n",
    "    df[column] = df[column].apply(lambda entry: int(entry))"
   ]
  },
  {
   "cell_type": "code",
   "execution_count": 303,
   "metadata": {},
   "outputs": [
    {
     "data": {
      "text/html": [
       "<div>\n",
       "<style scoped>\n",
       "    .dataframe tbody tr th:only-of-type {\n",
       "        vertical-align: middle;\n",
       "    }\n",
       "\n",
       "    .dataframe tbody tr th {\n",
       "        vertical-align: top;\n",
       "    }\n",
       "\n",
       "    .dataframe thead th {\n",
       "        text-align: right;\n",
       "    }\n",
       "</style>\n",
       "<table border=\"1\" class=\"dataframe\">\n",
       "  <thead>\n",
       "    <tr style=\"text-align: right;\">\n",
       "      <th></th>\n",
       "      <th>01 January 2020</th>\n",
       "      <th>02 January 2020</th>\n",
       "      <th>03 January 2020</th>\n",
       "      <th>04 January 2020</th>\n",
       "      <th>05 January 2020</th>\n",
       "      <th>06 January 2020</th>\n",
       "      <th>07 January 2020</th>\n",
       "      <th>08 January 2020</th>\n",
       "      <th>09 January 2020</th>\n",
       "      <th>10 January 2020</th>\n",
       "      <th>...</th>\n",
       "      <th>21 April 2020</th>\n",
       "      <th>22 April 2020</th>\n",
       "      <th>23 April 2020</th>\n",
       "      <th>24 April 2020</th>\n",
       "      <th>25 April 2020</th>\n",
       "      <th>26 April 2020</th>\n",
       "      <th>27 April 2020</th>\n",
       "      <th>28 April 2020</th>\n",
       "      <th>29 April 2020</th>\n",
       "      <th>30 April 2020</th>\n",
       "    </tr>\n",
       "  </thead>\n",
       "  <tbody>\n",
       "    <tr>\n",
       "      <td>2</td>\n",
       "      <td>10909</td>\n",
       "      <td>15816</td>\n",
       "      <td>14583</td>\n",
       "      <td>13937</td>\n",
       "      <td>15245</td>\n",
       "      <td>17793</td>\n",
       "      <td>15769</td>\n",
       "      <td>16341</td>\n",
       "      <td>16307</td>\n",
       "      <td>16601</td>\n",
       "      <td>...</td>\n",
       "      <td>6313</td>\n",
       "      <td>6406</td>\n",
       "      <td>6268</td>\n",
       "      <td>6215</td>\n",
       "      <td>2918</td>\n",
       "      <td>3087</td>\n",
       "      <td>7658</td>\n",
       "      <td>6962</td>\n",
       "      <td>6970</td>\n",
       "      <td>6699</td>\n",
       "    </tr>\n",
       "    <tr>\n",
       "      <td>3</td>\n",
       "      <td>31727</td>\n",
       "      <td>43372</td>\n",
       "      <td>43132</td>\n",
       "      <td>35515</td>\n",
       "      <td>35749</td>\n",
       "      <td>42985</td>\n",
       "      <td>43892</td>\n",
       "      <td>44861</td>\n",
       "      <td>46761</td>\n",
       "      <td>47852</td>\n",
       "      <td>...</td>\n",
       "      <td>16895</td>\n",
       "      <td>17103</td>\n",
       "      <td>17274</td>\n",
       "      <td>18041</td>\n",
       "      <td>8257</td>\n",
       "      <td>7053</td>\n",
       "      <td>17580</td>\n",
       "      <td>17845</td>\n",
       "      <td>18323</td>\n",
       "      <td>18548</td>\n",
       "    </tr>\n",
       "    <tr>\n",
       "      <td>5</td>\n",
       "      <td>28818</td>\n",
       "      <td>43035</td>\n",
       "      <td>47010</td>\n",
       "      <td>43095</td>\n",
       "      <td>40438</td>\n",
       "      <td>48950</td>\n",
       "      <td>48374</td>\n",
       "      <td>49585</td>\n",
       "      <td>50652</td>\n",
       "      <td>52321</td>\n",
       "      <td>...</td>\n",
       "      <td>24132</td>\n",
       "      <td>24829</td>\n",
       "      <td>24315</td>\n",
       "      <td>24418</td>\n",
       "      <td>13020</td>\n",
       "      <td>10501</td>\n",
       "      <td>24047</td>\n",
       "      <td>24307</td>\n",
       "      <td>25706</td>\n",
       "      <td>26312</td>\n",
       "    </tr>\n",
       "    <tr>\n",
       "      <td>7</td>\n",
       "      <td>876</td>\n",
       "      <td>1539</td>\n",
       "      <td>1685</td>\n",
       "      <td>1222</td>\n",
       "      <td>1030</td>\n",
       "      <td>1959</td>\n",
       "      <td>2020</td>\n",
       "      <td>2169</td>\n",
       "      <td>2135</td>\n",
       "      <td>2229</td>\n",
       "      <td>...</td>\n",
       "      <td>872</td>\n",
       "      <td>836</td>\n",
       "      <td>884</td>\n",
       "      <td>954</td>\n",
       "      <td>440</td>\n",
       "      <td>294</td>\n",
       "      <td>850</td>\n",
       "      <td>843</td>\n",
       "      <td>896</td>\n",
       "      <td>960</td>\n",
       "    </tr>\n",
       "    <tr>\n",
       "      <td>8</td>\n",
       "      <td>66115</td>\n",
       "      <td>86304</td>\n",
       "      <td>86379</td>\n",
       "      <td>82549</td>\n",
       "      <td>82084</td>\n",
       "      <td>91851</td>\n",
       "      <td>93752</td>\n",
       "      <td>96793</td>\n",
       "      <td>97001</td>\n",
       "      <td>99517</td>\n",
       "      <td>...</td>\n",
       "      <td>34267</td>\n",
       "      <td>35380</td>\n",
       "      <td>35215</td>\n",
       "      <td>35830</td>\n",
       "      <td>20016</td>\n",
       "      <td>16623</td>\n",
       "      <td>36078</td>\n",
       "      <td>35615</td>\n",
       "      <td>37067</td>\n",
       "      <td>37834</td>\n",
       "    </tr>\n",
       "  </tbody>\n",
       "</table>\n",
       "<p>5 rows × 121 columns</p>\n",
       "</div>"
      ],
      "text/plain": [
       "   01 January 2020  02 January 2020  03 January 2020  04 January 2020  \\\n",
       "2            10909            15816            14583            13937   \n",
       "3            31727            43372            43132            35515   \n",
       "5            28818            43035            47010            43095   \n",
       "7              876             1539             1685             1222   \n",
       "8            66115            86304            86379            82549   \n",
       "\n",
       "   05 January 2020  06 January 2020  07 January 2020  08 January 2020  \\\n",
       "2            15245            17793            15769            16341   \n",
       "3            35749            42985            43892            44861   \n",
       "5            40438            48950            48374            49585   \n",
       "7             1030             1959             2020             2169   \n",
       "8            82084            91851            93752            96793   \n",
       "\n",
       "   09 January 2020  10 January 2020  ...  21 April 2020  22 April 2020  \\\n",
       "2            16307            16601  ...           6313           6406   \n",
       "3            46761            47852  ...          16895          17103   \n",
       "5            50652            52321  ...          24132          24829   \n",
       "7             2135             2229  ...            872            836   \n",
       "8            97001            99517  ...          34267          35380   \n",
       "\n",
       "   23 April 2020  24 April 2020  25 April 2020  26 April 2020  27 April 2020  \\\n",
       "2           6268           6215           2918           3087           7658   \n",
       "3          17274          18041           8257           7053          17580   \n",
       "5          24315          24418          13020          10501          24047   \n",
       "7            884            954            440            294            850   \n",
       "8          35215          35830          20016          16623          36078   \n",
       "\n",
       "   28 April 2020  29 April 2020  30 April 2020  \n",
       "2           6962           6970           6699  \n",
       "3          17845          18323          18548  \n",
       "5          24307          25706          26312  \n",
       "7            843            896            960  \n",
       "8          35615          37067          37834  \n",
       "\n",
       "[5 rows x 121 columns]"
      ]
     },
     "execution_count": 303,
     "metadata": {},
     "output_type": "execute_result"
    }
   ],
   "source": [
    "df.head()"
   ]
  },
  {
   "cell_type": "code",
   "execution_count": 304,
   "metadata": {},
   "outputs": [],
   "source": [
    "df.to_csv('traffic_flow_uk.csv')"
   ]
  },
  {
   "cell_type": "code",
   "execution_count": null,
   "metadata": {},
   "outputs": [],
   "source": []
  }
 ],
 "metadata": {
  "kernelspec": {
   "display_name": "Python 3",
   "language": "python",
   "name": "python3"
  },
  "language_info": {
   "codemirror_mode": {
    "name": "ipython",
    "version": 3
   },
   "file_extension": ".py",
   "mimetype": "text/x-python",
   "name": "python",
   "nbconvert_exporter": "python",
   "pygments_lexer": "ipython3",
   "version": "3.7.1"
  }
 },
 "nbformat": 4,
 "nbformat_minor": 2
}
