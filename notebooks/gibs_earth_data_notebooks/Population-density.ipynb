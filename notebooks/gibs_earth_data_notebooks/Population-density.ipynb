{
 "cells": [
  {
   "cell_type": "code",
   "execution_count": 1,
   "metadata": {},
   "outputs": [],
   "source": [
    "%matplotlib inline\n",
    "%load_ext lab_black\n",
    "%load_ext autoreload\n",
    "%autoreload 2"
   ]
  },
  {
   "cell_type": "code",
   "execution_count": 2,
   "metadata": {},
   "outputs": [],
   "source": [
    "import random\n",
    "import numpy as np\n",
    "import pandas as pd\n",
    "import matplotlib.pyplot as plt\n",
    "import seaborn as sns"
   ]
  },
  {
   "cell_type": "code",
   "execution_count": 44,
   "metadata": {},
   "outputs": [],
   "source": [
    "import requests\n",
    "from PIL import Image\n",
    "from datetime import datetime, timedelta\n",
    "import time\n",
    "from tqdm import tqdm\n",
    "from typing import List\n",
    "import os\n",
    "import pathlib\n",
    "from io import BytesIO\n",
    "import math"
   ]
  },
  {
   "cell_type": "code",
   "execution_count": 4,
   "metadata": {},
   "outputs": [],
   "source": [
    "URL = (\n",
    "    \"https://gibs-{s}.earthdata.nasa.gov/wmts/epsg4326/best/{layer}\"\n",
    "    + \"/default/{date}/{tile_matrix_set}/{z}/{y}/{x}.{image_format}\"\n",
    ")"
   ]
  },
  {
   "cell_type": "code",
   "execution_count": 5,
   "metadata": {},
   "outputs": [],
   "source": [
    "def get_tile_as_image(\n",
    "    layer: str,\n",
    "    date: str,\n",
    "    tile_matrix_set: str,\n",
    "    z: int,\n",
    "    y: int,\n",
    "    x: int,\n",
    "    image_format: str,\n",
    "    s: str = \"a\",\n",
    ") -> Image:\n",
    "    \"\"\"\n",
    "    Returns an image tile from an image layer\n",
    "    \n",
    "    Args:\n",
    "        s (str): Sub-doomain. Either \"a\", \"b\", \"c\"\n",
    "        layer (str): Layer name\n",
    "        date (str): Date in format \"YYYY-MM-DD\"\n",
    "        tile_matrix_set (str): The tile matrix format\n",
    "        z (int): Zoom level e.g. 0\n",
    "        x (int): The x position e.g. 1\n",
    "        y (int): The y posiiton e.g. 2\n",
    "        image_format (str): The image format e.g. png\n",
    "    \n",
    "    Returns:\n",
    "        Image: PIL.Image object of image tile\n",
    "    \"\"\"\n",
    "    response = requests.get(\n",
    "        URL.format(\n",
    "            s=\"c\",\n",
    "            layer=layer,\n",
    "            date=date,\n",
    "            tile_matrix_set=tile_matrix_set,\n",
    "            z=z,\n",
    "            y=y,\n",
    "            x=x,\n",
    "            image_format=image_format,\n",
    "        )\n",
    "    )\n",
    "    if response.status_code == 200:\n",
    "        return Image.open(BytesIO(response.content))\n",
    "    else:\n",
    "        raise ValueError(\"Unable to retrieve image\")"
   ]
  },
  {
   "cell_type": "code",
   "execution_count": 6,
   "metadata": {},
   "outputs": [],
   "source": [
    "def tile_images_region(\n",
    "    x_limits: List[int],\n",
    "    y_limits: List[int],\n",
    "    layer: str,\n",
    "    date: str,\n",
    "    tile_matrix_set: str,\n",
    "    z: int,\n",
    "    image_format: str,\n",
    "    s: str = \"a\",\n",
    "):\n",
    "    \"\"\"Builds tiled image at specified zoom level within limits provided.\n",
    "    \n",
    "    Args:\n",
    "        s (str): Sub-domain. Either \"a\", \"b\", \"c\"\n",
    "        layer (str): Layer name\n",
    "        date (str): Date in format \"YYYY-MM-DD\"\n",
    "        tile_matrix_set (str): The tile matrix format\n",
    "        z (int): Zoom level e.g. 0\n",
    "        x (int): The x position e.g. 1\n",
    "        y (int): The y posiiton e.g. 2\n",
    "        image_format (str): The image format e.g. png\n",
    "    \n",
    "    Returns:\n",
    "        Image: PIL.Image object of tiled image\n",
    "    \"\"\"\n",
    "    columns = []\n",
    "    for x in range(*x_limits):\n",
    "        _column = []\n",
    "        for y in range(*y_limits):\n",
    "            tile = get_tile_as_image(\n",
    "                s=s,\n",
    "                layer=layer,\n",
    "                date=date,\n",
    "                tile_matrix_set=tile_matrix_set,\n",
    "                z=z,\n",
    "                x=x,\n",
    "                y=y,\n",
    "                image_format=image_format,\n",
    "            )\n",
    "            _column.append(np.array(tile.convert(\"RGBA\")))\n",
    "        _column = np.vstack(_column)\n",
    "        columns.append(_column)\n",
    "    return np.hstack(columns)"
   ]
  },
  {
   "cell_type": "code",
   "execution_count": 14,
   "metadata": {},
   "outputs": [],
   "source": [
    "LAYER_NAME = \"GPW_Population_Density_2020\"\n",
    "TILE_MATRIX_SET = \"EPSG4326_1km\"\n",
    "DATE = \"2020-04-26\"\n",
    "Z = 5"
   ]
  },
  {
   "cell_type": "code",
   "execution_count": 8,
   "metadata": {},
   "outputs": [],
   "source": [
    "UK_COORDINATES = {\"x_limits\": [37, 41], \"y_limits\": [6, 9]}"
   ]
  },
  {
   "cell_type": "code",
   "execution_count": 9,
   "metadata": {},
   "outputs": [],
   "source": [
    "pathlib.Path(f\"../data/processed/{LAYER_NAME}/\").mkdir(exist_ok=True, parents=True)"
   ]
  },
  {
   "cell_type": "code",
   "execution_count": 10,
   "metadata": {},
   "outputs": [
    {
     "name": "stdout",
     "output_type": "stream",
     "text": [
      "Saving ../data/processed/GPW_Population_Density_2020/GPW_Population_Density_2020_Z_6_2020-01-01.png\n",
      "Saving ../data/processed/GPW_Population_Density_2020/GPW_Population_Density_2020_Z_6_2020-01-08.png\n",
      "Saving ../data/processed/GPW_Population_Density_2020/GPW_Population_Density_2020_Z_6_2020-01-15.png\n",
      "Saving ../data/processed/GPW_Population_Density_2020/GPW_Population_Density_2020_Z_6_2020-01-22.png\n",
      "Saving ../data/processed/GPW_Population_Density_2020/GPW_Population_Density_2020_Z_6_2020-01-29.png\n",
      "Saving ../data/processed/GPW_Population_Density_2020/GPW_Population_Density_2020_Z_6_2020-02-05.png\n",
      "Saving ../data/processed/GPW_Population_Density_2020/GPW_Population_Density_2020_Z_6_2020-02-12.png\n",
      "Saving ../data/processed/GPW_Population_Density_2020/GPW_Population_Density_2020_Z_6_2020-02-19.png\n",
      "Saving ../data/processed/GPW_Population_Density_2020/GPW_Population_Density_2020_Z_6_2020-02-26.png\n",
      "Saving ../data/processed/GPW_Population_Density_2020/GPW_Population_Density_2020_Z_6_2020-03-04.png\n",
      "Saving ../data/processed/GPW_Population_Density_2020/GPW_Population_Density_2020_Z_6_2020-03-11.png\n",
      "Saving ../data/processed/GPW_Population_Density_2020/GPW_Population_Density_2020_Z_6_2020-03-18.png\n",
      "Saving ../data/processed/GPW_Population_Density_2020/GPW_Population_Density_2020_Z_6_2020-03-25.png\n",
      "Saving ../data/processed/GPW_Population_Density_2020/GPW_Population_Density_2020_Z_6_2020-04-01.png\n",
      "Saving ../data/processed/GPW_Population_Density_2020/GPW_Population_Density_2020_Z_6_2020-04-08.png\n",
      "Saving ../data/processed/GPW_Population_Density_2020/GPW_Population_Density_2020_Z_6_2020-04-15.png\n",
      "Saving ../data/processed/GPW_Population_Density_2020/GPW_Population_Density_2020_Z_6_2020-04-22.png\n",
      "Saving ../data/processed/GPW_Population_Density_2020/GPW_Population_Density_2020_Z_6_2020-04-29.png\n",
      "Saving ../data/processed/GPW_Population_Density_2020/GPW_Population_Density_2020_Z_6_2020-05-06.png\n",
      "Saving ../data/processed/GPW_Population_Density_2020/GPW_Population_Density_2020_Z_6_2020-05-13.png\n",
      "Saving ../data/processed/GPW_Population_Density_2020/GPW_Population_Density_2020_Z_6_2020-05-20.png\n",
      "Saving ../data/processed/GPW_Population_Density_2020/GPW_Population_Density_2020_Z_6_2020-05-27.png\n"
     ]
    }
   ],
   "source": [
    "start_date = datetime(2020, 1, 1)\n",
    "end_date = datetime(2020, 5, 31)\n",
    "current_date = start_date\n",
    "while current_date < end_date:\n",
    "    date_str = current_date.strftime(\"%Y-%m-%d\")\n",
    "    try:\n",
    "        tiled = tile_images_region(\n",
    "            **UK_COORDINATES,\n",
    "            layer=LAYER_NAME,\n",
    "            tile_matrix_set=TILE_MATRIX_SET,\n",
    "            date=date_str,\n",
    "            z=Z,\n",
    "            image_format=\"png\",\n",
    "            s=\"b\",\n",
    "        )\n",
    "        filepath = f\"../data/processed/{LAYER_NAME}/{LAYER_NAME}_Z_{Z}_{date_str}.png\"\n",
    "        print(f\"Saving {filepath}\")\n",
    "        Image.fromarray(tiled).save(filepath)\n",
    "    except:\n",
    "        print(f\"Failed to save {filepath}\")\n",
    "    current_date = current_date + timedelta(days=7)"
   ]
  },
  {
   "cell_type": "code",
   "execution_count": null,
   "metadata": {},
   "outputs": [],
   "source": []
  }
 ],
 "metadata": {
  "kernelspec": {
   "display_name": "Python 3",
   "language": "python",
   "name": "python3"
  },
  "language_info": {
   "codemirror_mode": {
    "name": "ipython",
    "version": 3
   },
   "file_extension": ".py",
   "mimetype": "text/x-python",
   "name": "python",
   "nbconvert_exporter": "python",
   "pygments_lexer": "ipython3",
   "version": "3.6.8"
  }
 },
 "nbformat": 4,
 "nbformat_minor": 2
}
