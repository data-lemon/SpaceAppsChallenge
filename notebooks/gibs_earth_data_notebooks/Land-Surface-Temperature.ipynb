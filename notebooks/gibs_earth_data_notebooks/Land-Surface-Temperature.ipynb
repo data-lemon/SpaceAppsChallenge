{
 "cells": [
  {
   "cell_type": "code",
   "execution_count": 1,
   "metadata": {},
   "outputs": [],
   "source": [
    "%matplotlib inline"
   ]
  },
  {
   "cell_type": "code",
   "execution_count": 2,
   "metadata": {},
   "outputs": [],
   "source": [
    "import random\n",
    "import numpy as np\n",
    "import pandas as pd\n",
    "import matplotlib.pyplot as plt\n",
    "import seaborn as sns\n"
   ]
  },
  {
   "cell_type": "code",
   "execution_count": 3,
   "metadata": {},
   "outputs": [],
   "source": [
    "import requests\n",
    "from PIL import Image\n",
    "from datetime import datetime, timedelta\n",
    "import time\n",
    "from tqdm import tqdm\n",
    "from typing import List\n",
    "import os\n",
    "import pathlib"
   ]
  },
  {
   "cell_type": "markdown",
   "metadata": {},
   "source": [
    "Generic URL format for obtaining map layer tiles"
   ]
  },
  {
   "cell_type": "code",
   "execution_count": 4,
   "metadata": {},
   "outputs": [],
   "source": [
    "URL = (\n",
    "    \"https://gibs-{s}.earthdata.nasa.gov/wmts/epsg4326/best/{layer}\"\n",
    "    + \"/default/{date}/{tile_matrix_set}/{z}/{y}/{x}.{image_format}\"\n",
    ")"
   ]
  },
  {
   "cell_type": "code",
   "execution_count": 47,
   "metadata": {},
   "outputs": [],
   "source": [
    "def get_tile_as_image(\n",
    "    layer: str,\n",
    "    date: str,\n",
    "    tile_matrix_set: str,\n",
    "    z: int,\n",
    "    y: int,\n",
    "    x: int,\n",
    "    image_format: str,\n",
    "    s: str = \"a\",\n",
    ") -> Image:\n",
    "    \"\"\"\n",
    "    Returns an image tile from an image layer\n",
    "    \n",
    "    Args:\n",
    "        s (str): Sub-doomain. Either \"a\", \"b\", \"c\"\n",
    "        layer (str): Layer name\n",
    "        date (str): Date in format \"YYYY-MM-DD\"\n",
    "        tile_matrix_set (str): The tile matrix format\n",
    "        z (int): Zoom level e.g. 0\n",
    "        x (int): The x position e.g. 1\n",
    "        y (int): The y posiiton e.g. 2\n",
    "        image_format (str): The image format e.g. png\n",
    "    \n",
    "    Returns:\n",
    "        Image: PIL.Image object of image tile\n",
    "    \"\"\"\n",
    "    response = requests.get(\n",
    "        URL.format(\n",
    "            s=\"c\",\n",
    "            layer=layer,\n",
    "            date=date,\n",
    "            tile_matrix_set=tile_matrix_set,\n",
    "            z=z,\n",
    "            y=y,\n",
    "            x=x,\n",
    "            image_format=image_format,\n",
    "        )\n",
    "    )\n",
    "    if response.status_code == 200:\n",
    "        return Image.open(BytesIO(response.content))\n",
    "    else:\n",
    "        raise ValueError(\"Unable to retrieve image\")"
   ]
  },
  {
   "cell_type": "code",
   "execution_count": 50,
   "metadata": {},
   "outputs": [],
   "source": [
    "def tile_images_region(\n",
    "    x_limits: List[int],\n",
    "    y_limits: List[int],\n",
    "    layer: str, date: str, tile_matrix_set: str, z: int, image_format: str, s: str = \"a\"\n",
    "):\n",
    "    \"\"\"Builds tiled image at specified zoom level within limits provided.\n",
    "    \n",
    "    Args:\n",
    "        s (str): Sub-domain. Either \"a\", \"b\", \"c\"\n",
    "        layer (str): Layer name\n",
    "        date (str): Date in format \"YYYY-MM-DD\"\n",
    "        tile_matrix_set (str): The tile matrix format\n",
    "        z (int): Zoom level e.g. 0\n",
    "        x (int): The x position e.g. 1\n",
    "        y (int): The y posiiton e.g. 2\n",
    "        image_format (str): The image format e.g. png\n",
    "    \n",
    "    Returns:\n",
    "        Image: PIL.Image object of tiled image\n",
    "    \"\"\"\n",
    "    columns = []\n",
    "    for x in range(*x_limits):\n",
    "        _column = []\n",
    "        for y in range(*y_limits):\n",
    "            tile = get_tile_as_image(\n",
    "                s=s,\n",
    "                layer=layer,\n",
    "                date=date,\n",
    "                tile_matrix_set=tile_matrix_set,\n",
    "                z=z,\n",
    "                x=x,\n",
    "                y=y,\n",
    "                image_format=image_format,\n",
    "            )\n",
    "            _column.append(np.array(tile.convert(\"RGBA\")))\n",
    "        _column = np.vstack(_column)\n",
    "        columns.append(_column)\n",
    "    return np.hstack(columns)"
   ]
  },
  {
   "cell_type": "code",
   "execution_count": 52,
   "metadata": {},
   "outputs": [],
   "source": [
    "LAYER_NAME = \"MODIS_Aqua_L3_Land_Surface_Temp_Daily_Day\"\n",
    "TILE_MATRIX_SET = \"EPSG4326_1km\"\n",
    "DATE = \"2020-04-24\"\n",
    "Z = 6"
   ]
  },
  {
   "cell_type": "code",
   "execution_count": 54,
   "metadata": {},
   "outputs": [],
   "source": [
    "UK_COORDINATES = {\n",
    "    \"x_limits\": [37, 41],\n",
    "    \"y_limits\": [6, 9]\n",
    "}"
   ]
  },
  {
   "cell_type": "code",
   "execution_count": 71,
   "metadata": {},
   "outputs": [],
   "source": [
    "pathlib.Path(f\"../data/processed/{LAYER_NAME}/\").mkdir(exist_ok=True, parents=True)"
   ]
  },
  {
   "cell_type": "code",
   "execution_count": 74,
   "metadata": {},
   "outputs": [
    {
     "name": "stderr",
     "output_type": "stream",
     "text": [
      "100%|██████████| 4/4 [00:09<00:00,  2.27s/it]\n"
     ]
    },
    {
     "name": "stdout",
     "output_type": "stream",
     "text": [
      "Saving ../data/processed/MODIS_Aqua_L3_Land_Surface_Temp_Daily_Day/MODIS_Aqua_L3_Land_Surface_Temp_Daily_Day_Z_6_2020-01-01.png\n"
     ]
    },
    {
     "name": "stderr",
     "output_type": "stream",
     "text": [
      "100%|██████████| 4/4 [00:08<00:00,  2.25s/it]\n"
     ]
    },
    {
     "name": "stdout",
     "output_type": "stream",
     "text": [
      "Saving ../data/processed/MODIS_Aqua_L3_Land_Surface_Temp_Daily_Day/MODIS_Aqua_L3_Land_Surface_Temp_Daily_Day_Z_6_2020-01-02.png\n"
     ]
    },
    {
     "name": "stderr",
     "output_type": "stream",
     "text": [
      "100%|██████████| 4/4 [00:11<00:00,  3.00s/it]\n"
     ]
    },
    {
     "name": "stdout",
     "output_type": "stream",
     "text": [
      "Saving ../data/processed/MODIS_Aqua_L3_Land_Surface_Temp_Daily_Day/MODIS_Aqua_L3_Land_Surface_Temp_Daily_Day_Z_6_2020-01-03.png\n"
     ]
    },
    {
     "name": "stderr",
     "output_type": "stream",
     "text": [
      "100%|██████████| 4/4 [00:11<00:00,  2.85s/it]\n"
     ]
    },
    {
     "name": "stdout",
     "output_type": "stream",
     "text": [
      "Saving ../data/processed/MODIS_Aqua_L3_Land_Surface_Temp_Daily_Day/MODIS_Aqua_L3_Land_Surface_Temp_Daily_Day_Z_6_2020-01-04.png\n"
     ]
    },
    {
     "name": "stderr",
     "output_type": "stream",
     "text": [
      "100%|██████████| 4/4 [00:09<00:00,  2.46s/it]\n"
     ]
    },
    {
     "name": "stdout",
     "output_type": "stream",
     "text": [
      "Saving ../data/processed/MODIS_Aqua_L3_Land_Surface_Temp_Daily_Day/MODIS_Aqua_L3_Land_Surface_Temp_Daily_Day_Z_6_2020-01-05.png\n"
     ]
    },
    {
     "name": "stderr",
     "output_type": "stream",
     "text": [
      "100%|██████████| 4/4 [00:09<00:00,  2.44s/it]\n"
     ]
    },
    {
     "name": "stdout",
     "output_type": "stream",
     "text": [
      "Saving ../data/processed/MODIS_Aqua_L3_Land_Surface_Temp_Daily_Day/MODIS_Aqua_L3_Land_Surface_Temp_Daily_Day_Z_6_2020-01-06.png\n"
     ]
    },
    {
     "name": "stderr",
     "output_type": "stream",
     "text": [
      "100%|██████████| 4/4 [00:09<00:00,  2.29s/it]\n"
     ]
    },
    {
     "name": "stdout",
     "output_type": "stream",
     "text": [
      "Saving ../data/processed/MODIS_Aqua_L3_Land_Surface_Temp_Daily_Day/MODIS_Aqua_L3_Land_Surface_Temp_Daily_Day_Z_6_2020-01-07.png\n"
     ]
    },
    {
     "name": "stderr",
     "output_type": "stream",
     "text": [
      "100%|██████████| 4/4 [00:09<00:00,  2.47s/it]\n"
     ]
    },
    {
     "name": "stdout",
     "output_type": "stream",
     "text": [
      "Saving ../data/processed/MODIS_Aqua_L3_Land_Surface_Temp_Daily_Day/MODIS_Aqua_L3_Land_Surface_Temp_Daily_Day_Z_6_2020-01-08.png\n"
     ]
    },
    {
     "name": "stderr",
     "output_type": "stream",
     "text": [
      "100%|██████████| 4/4 [00:09<00:00,  2.39s/it]\n"
     ]
    },
    {
     "name": "stdout",
     "output_type": "stream",
     "text": [
      "Saving ../data/processed/MODIS_Aqua_L3_Land_Surface_Temp_Daily_Day/MODIS_Aqua_L3_Land_Surface_Temp_Daily_Day_Z_6_2020-01-09.png\n"
     ]
    },
    {
     "name": "stderr",
     "output_type": "stream",
     "text": [
      "100%|██████████| 4/4 [00:09<00:00,  2.44s/it]\n"
     ]
    },
    {
     "name": "stdout",
     "output_type": "stream",
     "text": [
      "Saving ../data/processed/MODIS_Aqua_L3_Land_Surface_Temp_Daily_Day/MODIS_Aqua_L3_Land_Surface_Temp_Daily_Day_Z_6_2020-01-10.png\n"
     ]
    },
    {
     "name": "stderr",
     "output_type": "stream",
     "text": [
      "100%|██████████| 4/4 [00:15<00:00,  3.85s/it]\n"
     ]
    },
    {
     "name": "stdout",
     "output_type": "stream",
     "text": [
      "Saving ../data/processed/MODIS_Aqua_L3_Land_Surface_Temp_Daily_Day/MODIS_Aqua_L3_Land_Surface_Temp_Daily_Day_Z_6_2020-01-11.png\n"
     ]
    },
    {
     "name": "stderr",
     "output_type": "stream",
     "text": [
      "100%|██████████| 4/4 [00:11<00:00,  2.94s/it]\n"
     ]
    },
    {
     "name": "stdout",
     "output_type": "stream",
     "text": [
      "Saving ../data/processed/MODIS_Aqua_L3_Land_Surface_Temp_Daily_Day/MODIS_Aqua_L3_Land_Surface_Temp_Daily_Day_Z_6_2020-01-12.png\n"
     ]
    },
    {
     "name": "stderr",
     "output_type": "stream",
     "text": [
      "100%|██████████| 4/4 [00:08<00:00,  2.25s/it]\n"
     ]
    },
    {
     "name": "stdout",
     "output_type": "stream",
     "text": [
      "Saving ../data/processed/MODIS_Aqua_L3_Land_Surface_Temp_Daily_Day/MODIS_Aqua_L3_Land_Surface_Temp_Daily_Day_Z_6_2020-01-13.png\n"
     ]
    },
    {
     "name": "stderr",
     "output_type": "stream",
     "text": [
      "100%|██████████| 4/4 [00:09<00:00,  2.31s/it]\n"
     ]
    },
    {
     "name": "stdout",
     "output_type": "stream",
     "text": [
      "Saving ../data/processed/MODIS_Aqua_L3_Land_Surface_Temp_Daily_Day/MODIS_Aqua_L3_Land_Surface_Temp_Daily_Day_Z_6_2020-01-14.png\n"
     ]
    },
    {
     "name": "stderr",
     "output_type": "stream",
     "text": [
      "100%|██████████| 4/4 [00:10<00:00,  2.51s/it]\n"
     ]
    },
    {
     "name": "stdout",
     "output_type": "stream",
     "text": [
      "Saving ../data/processed/MODIS_Aqua_L3_Land_Surface_Temp_Daily_Day/MODIS_Aqua_L3_Land_Surface_Temp_Daily_Day_Z_6_2020-01-15.png\n"
     ]
    },
    {
     "name": "stderr",
     "output_type": "stream",
     "text": [
      "100%|██████████| 4/4 [00:09<00:00,  2.33s/it]\n"
     ]
    },
    {
     "name": "stdout",
     "output_type": "stream",
     "text": [
      "Saving ../data/processed/MODIS_Aqua_L3_Land_Surface_Temp_Daily_Day/MODIS_Aqua_L3_Land_Surface_Temp_Daily_Day_Z_6_2020-01-16.png\n"
     ]
    },
    {
     "name": "stderr",
     "output_type": "stream",
     "text": [
      "100%|██████████| 4/4 [00:09<00:00,  2.43s/it]\n"
     ]
    },
    {
     "name": "stdout",
     "output_type": "stream",
     "text": [
      "Saving ../data/processed/MODIS_Aqua_L3_Land_Surface_Temp_Daily_Day/MODIS_Aqua_L3_Land_Surface_Temp_Daily_Day_Z_6_2020-01-17.png\n"
     ]
    },
    {
     "name": "stderr",
     "output_type": "stream",
     "text": [
      "100%|██████████| 4/4 [00:10<00:00,  2.62s/it]\n"
     ]
    },
    {
     "name": "stdout",
     "output_type": "stream",
     "text": [
      "Saving ../data/processed/MODIS_Aqua_L3_Land_Surface_Temp_Daily_Day/MODIS_Aqua_L3_Land_Surface_Temp_Daily_Day_Z_6_2020-01-18.png\n"
     ]
    },
    {
     "name": "stderr",
     "output_type": "stream",
     "text": [
      "100%|██████████| 4/4 [00:10<00:00,  2.58s/it]\n"
     ]
    },
    {
     "name": "stdout",
     "output_type": "stream",
     "text": [
      "Saving ../data/processed/MODIS_Aqua_L3_Land_Surface_Temp_Daily_Day/MODIS_Aqua_L3_Land_Surface_Temp_Daily_Day_Z_6_2020-01-19.png\n"
     ]
    },
    {
     "name": "stderr",
     "output_type": "stream",
     "text": [
      "100%|██████████| 4/4 [00:09<00:00,  2.48s/it]\n"
     ]
    },
    {
     "name": "stdout",
     "output_type": "stream",
     "text": [
      "Saving ../data/processed/MODIS_Aqua_L3_Land_Surface_Temp_Daily_Day/MODIS_Aqua_L3_Land_Surface_Temp_Daily_Day_Z_6_2020-01-20.png\n"
     ]
    },
    {
     "name": "stderr",
     "output_type": "stream",
     "text": [
      "100%|██████████| 4/4 [00:09<00:00,  2.45s/it]\n"
     ]
    },
    {
     "name": "stdout",
     "output_type": "stream",
     "text": [
      "Saving ../data/processed/MODIS_Aqua_L3_Land_Surface_Temp_Daily_Day/MODIS_Aqua_L3_Land_Surface_Temp_Daily_Day_Z_6_2020-01-21.png\n"
     ]
    },
    {
     "name": "stderr",
     "output_type": "stream",
     "text": [
      "100%|██████████| 4/4 [00:09<00:00,  2.38s/it]\n"
     ]
    },
    {
     "name": "stdout",
     "output_type": "stream",
     "text": [
      "Saving ../data/processed/MODIS_Aqua_L3_Land_Surface_Temp_Daily_Day/MODIS_Aqua_L3_Land_Surface_Temp_Daily_Day_Z_6_2020-01-22.png\n"
     ]
    },
    {
     "name": "stderr",
     "output_type": "stream",
     "text": [
      "100%|██████████| 4/4 [00:09<00:00,  2.33s/it]\n"
     ]
    },
    {
     "name": "stdout",
     "output_type": "stream",
     "text": [
      "Saving ../data/processed/MODIS_Aqua_L3_Land_Surface_Temp_Daily_Day/MODIS_Aqua_L3_Land_Surface_Temp_Daily_Day_Z_6_2020-01-23.png\n"
     ]
    },
    {
     "name": "stderr",
     "output_type": "stream",
     "text": [
      "100%|██████████| 4/4 [00:08<00:00,  2.25s/it]\n"
     ]
    },
    {
     "name": "stdout",
     "output_type": "stream",
     "text": [
      "Saving ../data/processed/MODIS_Aqua_L3_Land_Surface_Temp_Daily_Day/MODIS_Aqua_L3_Land_Surface_Temp_Daily_Day_Z_6_2020-01-24.png\n"
     ]
    },
    {
     "name": "stderr",
     "output_type": "stream",
     "text": [
      "100%|██████████| 4/4 [00:08<00:00,  2.24s/it]\n"
     ]
    },
    {
     "name": "stdout",
     "output_type": "stream",
     "text": [
      "Saving ../data/processed/MODIS_Aqua_L3_Land_Surface_Temp_Daily_Day/MODIS_Aqua_L3_Land_Surface_Temp_Daily_Day_Z_6_2020-01-25.png\n"
     ]
    },
    {
     "name": "stderr",
     "output_type": "stream",
     "text": [
      "100%|██████████| 4/4 [00:09<00:00,  2.42s/it]\n"
     ]
    },
    {
     "name": "stdout",
     "output_type": "stream",
     "text": [
      "Saving ../data/processed/MODIS_Aqua_L3_Land_Surface_Temp_Daily_Day/MODIS_Aqua_L3_Land_Surface_Temp_Daily_Day_Z_6_2020-01-26.png\n"
     ]
    },
    {
     "name": "stderr",
     "output_type": "stream",
     "text": [
      "100%|██████████| 4/4 [00:09<00:00,  2.42s/it]\n"
     ]
    },
    {
     "name": "stdout",
     "output_type": "stream",
     "text": [
      "Saving ../data/processed/MODIS_Aqua_L3_Land_Surface_Temp_Daily_Day/MODIS_Aqua_L3_Land_Surface_Temp_Daily_Day_Z_6_2020-01-27.png\n"
     ]
    },
    {
     "name": "stderr",
     "output_type": "stream",
     "text": [
      "100%|██████████| 4/4 [00:10<00:00,  2.54s/it]\n"
     ]
    },
    {
     "name": "stdout",
     "output_type": "stream",
     "text": [
      "Saving ../data/processed/MODIS_Aqua_L3_Land_Surface_Temp_Daily_Day/MODIS_Aqua_L3_Land_Surface_Temp_Daily_Day_Z_6_2020-01-28.png\n"
     ]
    },
    {
     "name": "stderr",
     "output_type": "stream",
     "text": [
      "100%|██████████| 4/4 [00:09<00:00,  2.38s/it]\n"
     ]
    },
    {
     "name": "stdout",
     "output_type": "stream",
     "text": [
      "Saving ../data/processed/MODIS_Aqua_L3_Land_Surface_Temp_Daily_Day/MODIS_Aqua_L3_Land_Surface_Temp_Daily_Day_Z_6_2020-01-29.png\n"
     ]
    },
    {
     "name": "stderr",
     "output_type": "stream",
     "text": [
      "100%|██████████| 4/4 [00:09<00:00,  2.40s/it]\n"
     ]
    },
    {
     "name": "stdout",
     "output_type": "stream",
     "text": [
      "Saving ../data/processed/MODIS_Aqua_L3_Land_Surface_Temp_Daily_Day/MODIS_Aqua_L3_Land_Surface_Temp_Daily_Day_Z_6_2020-01-30.png\n"
     ]
    },
    {
     "name": "stderr",
     "output_type": "stream",
     "text": [
      "100%|██████████| 4/4 [00:09<00:00,  2.29s/it]\n"
     ]
    },
    {
     "name": "stdout",
     "output_type": "stream",
     "text": [
      "Saving ../data/processed/MODIS_Aqua_L3_Land_Surface_Temp_Daily_Day/MODIS_Aqua_L3_Land_Surface_Temp_Daily_Day_Z_6_2020-01-31.png\n"
     ]
    },
    {
     "name": "stderr",
     "output_type": "stream",
     "text": [
      "100%|██████████| 4/4 [00:10<00:00,  2.57s/it]\n"
     ]
    },
    {
     "name": "stdout",
     "output_type": "stream",
     "text": [
      "Saving ../data/processed/MODIS_Aqua_L3_Land_Surface_Temp_Daily_Day/MODIS_Aqua_L3_Land_Surface_Temp_Daily_Day_Z_6_2020-02-01.png\n"
     ]
    },
    {
     "name": "stderr",
     "output_type": "stream",
     "text": [
      "100%|██████████| 4/4 [00:09<00:00,  2.42s/it]\n"
     ]
    },
    {
     "name": "stdout",
     "output_type": "stream",
     "text": [
      "Saving ../data/processed/MODIS_Aqua_L3_Land_Surface_Temp_Daily_Day/MODIS_Aqua_L3_Land_Surface_Temp_Daily_Day_Z_6_2020-02-02.png\n"
     ]
    },
    {
     "name": "stderr",
     "output_type": "stream",
     "text": [
      "100%|██████████| 4/4 [00:10<00:00,  2.63s/it]\n"
     ]
    },
    {
     "name": "stdout",
     "output_type": "stream",
     "text": [
      "Saving ../data/processed/MODIS_Aqua_L3_Land_Surface_Temp_Daily_Day/MODIS_Aqua_L3_Land_Surface_Temp_Daily_Day_Z_6_2020-02-03.png\n"
     ]
    },
    {
     "name": "stderr",
     "output_type": "stream",
     "text": [
      "100%|██████████| 4/4 [00:10<00:00,  2.61s/it]\n"
     ]
    },
    {
     "name": "stdout",
     "output_type": "stream",
     "text": [
      "Saving ../data/processed/MODIS_Aqua_L3_Land_Surface_Temp_Daily_Day/MODIS_Aqua_L3_Land_Surface_Temp_Daily_Day_Z_6_2020-02-04.png\n"
     ]
    },
    {
     "name": "stderr",
     "output_type": "stream",
     "text": [
      "100%|██████████| 4/4 [00:09<00:00,  2.44s/it]\n"
     ]
    },
    {
     "name": "stdout",
     "output_type": "stream",
     "text": [
      "Saving ../data/processed/MODIS_Aqua_L3_Land_Surface_Temp_Daily_Day/MODIS_Aqua_L3_Land_Surface_Temp_Daily_Day_Z_6_2020-02-05.png\n"
     ]
    },
    {
     "name": "stderr",
     "output_type": "stream",
     "text": [
      "100%|██████████| 4/4 [00:10<00:00,  2.61s/it]\n"
     ]
    },
    {
     "name": "stdout",
     "output_type": "stream",
     "text": [
      "Saving ../data/processed/MODIS_Aqua_L3_Land_Surface_Temp_Daily_Day/MODIS_Aqua_L3_Land_Surface_Temp_Daily_Day_Z_6_2020-02-06.png\n"
     ]
    },
    {
     "name": "stderr",
     "output_type": "stream",
     "text": [
      "100%|██████████| 4/4 [00:09<00:00,  2.43s/it]\n"
     ]
    },
    {
     "name": "stdout",
     "output_type": "stream",
     "text": [
      "Saving ../data/processed/MODIS_Aqua_L3_Land_Surface_Temp_Daily_Day/MODIS_Aqua_L3_Land_Surface_Temp_Daily_Day_Z_6_2020-02-07.png\n"
     ]
    },
    {
     "name": "stderr",
     "output_type": "stream",
     "text": [
      "100%|██████████| 4/4 [00:09<00:00,  2.42s/it]\n"
     ]
    },
    {
     "name": "stdout",
     "output_type": "stream",
     "text": [
      "Saving ../data/processed/MODIS_Aqua_L3_Land_Surface_Temp_Daily_Day/MODIS_Aqua_L3_Land_Surface_Temp_Daily_Day_Z_6_2020-02-08.png\n"
     ]
    },
    {
     "name": "stderr",
     "output_type": "stream",
     "text": [
      "100%|██████████| 4/4 [00:09<00:00,  2.34s/it]\n"
     ]
    },
    {
     "name": "stdout",
     "output_type": "stream",
     "text": [
      "Saving ../data/processed/MODIS_Aqua_L3_Land_Surface_Temp_Daily_Day/MODIS_Aqua_L3_Land_Surface_Temp_Daily_Day_Z_6_2020-02-09.png\n"
     ]
    },
    {
     "name": "stderr",
     "output_type": "stream",
     "text": [
      "100%|██████████| 4/4 [00:09<00:00,  2.39s/it]\n"
     ]
    },
    {
     "name": "stdout",
     "output_type": "stream",
     "text": [
      "Saving ../data/processed/MODIS_Aqua_L3_Land_Surface_Temp_Daily_Day/MODIS_Aqua_L3_Land_Surface_Temp_Daily_Day_Z_6_2020-02-10.png\n"
     ]
    },
    {
     "name": "stderr",
     "output_type": "stream",
     "text": [
      "100%|██████████| 4/4 [00:10<00:00,  2.56s/it]\n"
     ]
    },
    {
     "name": "stdout",
     "output_type": "stream",
     "text": [
      "Saving ../data/processed/MODIS_Aqua_L3_Land_Surface_Temp_Daily_Day/MODIS_Aqua_L3_Land_Surface_Temp_Daily_Day_Z_6_2020-02-11.png\n"
     ]
    },
    {
     "name": "stderr",
     "output_type": "stream",
     "text": [
      "100%|██████████| 4/4 [00:10<00:00,  2.66s/it]\n"
     ]
    },
    {
     "name": "stdout",
     "output_type": "stream",
     "text": [
      "Saving ../data/processed/MODIS_Aqua_L3_Land_Surface_Temp_Daily_Day/MODIS_Aqua_L3_Land_Surface_Temp_Daily_Day_Z_6_2020-02-12.png\n"
     ]
    },
    {
     "name": "stderr",
     "output_type": "stream",
     "text": [
      "100%|██████████| 4/4 [00:10<00:00,  2.64s/it]\n"
     ]
    },
    {
     "name": "stdout",
     "output_type": "stream",
     "text": [
      "Saving ../data/processed/MODIS_Aqua_L3_Land_Surface_Temp_Daily_Day/MODIS_Aqua_L3_Land_Surface_Temp_Daily_Day_Z_6_2020-02-13.png\n"
     ]
    },
    {
     "name": "stderr",
     "output_type": "stream",
     "text": [
      "100%|██████████| 4/4 [00:09<00:00,  2.30s/it]\n"
     ]
    },
    {
     "name": "stdout",
     "output_type": "stream",
     "text": [
      "Saving ../data/processed/MODIS_Aqua_L3_Land_Surface_Temp_Daily_Day/MODIS_Aqua_L3_Land_Surface_Temp_Daily_Day_Z_6_2020-02-14.png\n"
     ]
    },
    {
     "name": "stderr",
     "output_type": "stream",
     "text": [
      "100%|██████████| 4/4 [00:08<00:00,  2.21s/it]\n"
     ]
    },
    {
     "name": "stdout",
     "output_type": "stream",
     "text": [
      "Saving ../data/processed/MODIS_Aqua_L3_Land_Surface_Temp_Daily_Day/MODIS_Aqua_L3_Land_Surface_Temp_Daily_Day_Z_6_2020-02-15.png\n"
     ]
    },
    {
     "name": "stderr",
     "output_type": "stream",
     "text": [
      "100%|██████████| 4/4 [00:09<00:00,  2.39s/it]\n"
     ]
    },
    {
     "name": "stdout",
     "output_type": "stream",
     "text": [
      "Saving ../data/processed/MODIS_Aqua_L3_Land_Surface_Temp_Daily_Day/MODIS_Aqua_L3_Land_Surface_Temp_Daily_Day_Z_6_2020-02-16.png\n"
     ]
    },
    {
     "name": "stderr",
     "output_type": "stream",
     "text": [
      "100%|██████████| 4/4 [00:10<00:00,  2.58s/it]\n"
     ]
    },
    {
     "name": "stdout",
     "output_type": "stream",
     "text": [
      "Saving ../data/processed/MODIS_Aqua_L3_Land_Surface_Temp_Daily_Day/MODIS_Aqua_L3_Land_Surface_Temp_Daily_Day_Z_6_2020-02-17.png\n"
     ]
    },
    {
     "name": "stderr",
     "output_type": "stream",
     "text": [
      "100%|██████████| 4/4 [00:09<00:00,  2.47s/it]\n"
     ]
    },
    {
     "name": "stdout",
     "output_type": "stream",
     "text": [
      "Saving ../data/processed/MODIS_Aqua_L3_Land_Surface_Temp_Daily_Day/MODIS_Aqua_L3_Land_Surface_Temp_Daily_Day_Z_6_2020-02-18.png\n"
     ]
    },
    {
     "name": "stderr",
     "output_type": "stream",
     "text": [
      "100%|██████████| 4/4 [00:09<00:00,  2.30s/it]\n"
     ]
    },
    {
     "name": "stdout",
     "output_type": "stream",
     "text": [
      "Saving ../data/processed/MODIS_Aqua_L3_Land_Surface_Temp_Daily_Day/MODIS_Aqua_L3_Land_Surface_Temp_Daily_Day_Z_6_2020-02-19.png\n"
     ]
    },
    {
     "name": "stderr",
     "output_type": "stream",
     "text": [
      "100%|██████████| 4/4 [00:10<00:00,  2.65s/it]\n"
     ]
    },
    {
     "name": "stdout",
     "output_type": "stream",
     "text": [
      "Saving ../data/processed/MODIS_Aqua_L3_Land_Surface_Temp_Daily_Day/MODIS_Aqua_L3_Land_Surface_Temp_Daily_Day_Z_6_2020-02-20.png\n"
     ]
    },
    {
     "name": "stderr",
     "output_type": "stream",
     "text": [
      "100%|██████████| 4/4 [00:09<00:00,  2.27s/it]\n"
     ]
    },
    {
     "name": "stdout",
     "output_type": "stream",
     "text": [
      "Saving ../data/processed/MODIS_Aqua_L3_Land_Surface_Temp_Daily_Day/MODIS_Aqua_L3_Land_Surface_Temp_Daily_Day_Z_6_2020-02-21.png\n"
     ]
    },
    {
     "name": "stderr",
     "output_type": "stream",
     "text": [
      "100%|██████████| 4/4 [00:09<00:00,  2.36s/it]\n"
     ]
    },
    {
     "name": "stdout",
     "output_type": "stream",
     "text": [
      "Saving ../data/processed/MODIS_Aqua_L3_Land_Surface_Temp_Daily_Day/MODIS_Aqua_L3_Land_Surface_Temp_Daily_Day_Z_6_2020-02-22.png\n"
     ]
    },
    {
     "name": "stderr",
     "output_type": "stream",
     "text": [
      "100%|██████████| 4/4 [00:10<00:00,  2.53s/it]\n"
     ]
    },
    {
     "name": "stdout",
     "output_type": "stream",
     "text": [
      "Saving ../data/processed/MODIS_Aqua_L3_Land_Surface_Temp_Daily_Day/MODIS_Aqua_L3_Land_Surface_Temp_Daily_Day_Z_6_2020-02-23.png\n"
     ]
    },
    {
     "name": "stderr",
     "output_type": "stream",
     "text": [
      "100%|██████████| 4/4 [00:09<00:00,  2.44s/it]\n"
     ]
    },
    {
     "name": "stdout",
     "output_type": "stream",
     "text": [
      "Saving ../data/processed/MODIS_Aqua_L3_Land_Surface_Temp_Daily_Day/MODIS_Aqua_L3_Land_Surface_Temp_Daily_Day_Z_6_2020-02-24.png\n"
     ]
    },
    {
     "name": "stderr",
     "output_type": "stream",
     "text": [
      "100%|██████████| 4/4 [00:10<00:00,  2.54s/it]\n"
     ]
    },
    {
     "name": "stdout",
     "output_type": "stream",
     "text": [
      "Saving ../data/processed/MODIS_Aqua_L3_Land_Surface_Temp_Daily_Day/MODIS_Aqua_L3_Land_Surface_Temp_Daily_Day_Z_6_2020-02-25.png\n"
     ]
    },
    {
     "name": "stderr",
     "output_type": "stream",
     "text": [
      "100%|██████████| 4/4 [00:10<00:00,  2.65s/it]\n"
     ]
    },
    {
     "name": "stdout",
     "output_type": "stream",
     "text": [
      "Saving ../data/processed/MODIS_Aqua_L3_Land_Surface_Temp_Daily_Day/MODIS_Aqua_L3_Land_Surface_Temp_Daily_Day_Z_6_2020-02-26.png\n"
     ]
    },
    {
     "name": "stderr",
     "output_type": "stream",
     "text": [
      "100%|██████████| 4/4 [00:10<00:00,  2.74s/it]\n"
     ]
    },
    {
     "name": "stdout",
     "output_type": "stream",
     "text": [
      "Saving ../data/processed/MODIS_Aqua_L3_Land_Surface_Temp_Daily_Day/MODIS_Aqua_L3_Land_Surface_Temp_Daily_Day_Z_6_2020-02-27.png\n"
     ]
    },
    {
     "name": "stderr",
     "output_type": "stream",
     "text": [
      "100%|██████████| 4/4 [00:16<00:00,  4.02s/it]\n"
     ]
    },
    {
     "name": "stdout",
     "output_type": "stream",
     "text": [
      "Saving ../data/processed/MODIS_Aqua_L3_Land_Surface_Temp_Daily_Day/MODIS_Aqua_L3_Land_Surface_Temp_Daily_Day_Z_6_2020-02-28.png\n"
     ]
    },
    {
     "name": "stderr",
     "output_type": "stream",
     "text": [
      "100%|██████████| 4/4 [00:17<00:00,  4.30s/it]\n"
     ]
    },
    {
     "name": "stdout",
     "output_type": "stream",
     "text": [
      "Saving ../data/processed/MODIS_Aqua_L3_Land_Surface_Temp_Daily_Day/MODIS_Aqua_L3_Land_Surface_Temp_Daily_Day_Z_6_2020-02-29.png\n"
     ]
    },
    {
     "name": "stderr",
     "output_type": "stream",
     "text": [
      "100%|██████████| 4/4 [00:10<00:00,  2.62s/it]\n"
     ]
    },
    {
     "name": "stdout",
     "output_type": "stream",
     "text": [
      "Saving ../data/processed/MODIS_Aqua_L3_Land_Surface_Temp_Daily_Day/MODIS_Aqua_L3_Land_Surface_Temp_Daily_Day_Z_6_2020-03-01.png\n"
     ]
    },
    {
     "name": "stderr",
     "output_type": "stream",
     "text": [
      "100%|██████████| 4/4 [00:11<00:00,  2.87s/it]\n"
     ]
    },
    {
     "name": "stdout",
     "output_type": "stream",
     "text": [
      "Saving ../data/processed/MODIS_Aqua_L3_Land_Surface_Temp_Daily_Day/MODIS_Aqua_L3_Land_Surface_Temp_Daily_Day_Z_6_2020-03-02.png\n"
     ]
    },
    {
     "name": "stderr",
     "output_type": "stream",
     "text": [
      "100%|██████████| 4/4 [00:10<00:00,  2.56s/it]\n"
     ]
    },
    {
     "name": "stdout",
     "output_type": "stream",
     "text": [
      "Saving ../data/processed/MODIS_Aqua_L3_Land_Surface_Temp_Daily_Day/MODIS_Aqua_L3_Land_Surface_Temp_Daily_Day_Z_6_2020-03-03.png\n"
     ]
    },
    {
     "name": "stderr",
     "output_type": "stream",
     "text": [
      "100%|██████████| 4/4 [00:10<00:00,  2.55s/it]\n"
     ]
    },
    {
     "name": "stdout",
     "output_type": "stream",
     "text": [
      "Saving ../data/processed/MODIS_Aqua_L3_Land_Surface_Temp_Daily_Day/MODIS_Aqua_L3_Land_Surface_Temp_Daily_Day_Z_6_2020-03-04.png\n"
     ]
    },
    {
     "name": "stderr",
     "output_type": "stream",
     "text": [
      "100%|██████████| 4/4 [00:09<00:00,  2.48s/it]\n"
     ]
    },
    {
     "name": "stdout",
     "output_type": "stream",
     "text": [
      "Saving ../data/processed/MODIS_Aqua_L3_Land_Surface_Temp_Daily_Day/MODIS_Aqua_L3_Land_Surface_Temp_Daily_Day_Z_6_2020-03-05.png\n"
     ]
    },
    {
     "name": "stderr",
     "output_type": "stream",
     "text": [
      "100%|██████████| 4/4 [00:10<00:00,  2.63s/it]\n"
     ]
    },
    {
     "name": "stdout",
     "output_type": "stream",
     "text": [
      "Saving ../data/processed/MODIS_Aqua_L3_Land_Surface_Temp_Daily_Day/MODIS_Aqua_L3_Land_Surface_Temp_Daily_Day_Z_6_2020-03-06.png\n"
     ]
    },
    {
     "name": "stderr",
     "output_type": "stream",
     "text": [
      "100%|██████████| 4/4 [00:09<00:00,  2.28s/it]\n"
     ]
    },
    {
     "name": "stdout",
     "output_type": "stream",
     "text": [
      "Saving ../data/processed/MODIS_Aqua_L3_Land_Surface_Temp_Daily_Day/MODIS_Aqua_L3_Land_Surface_Temp_Daily_Day_Z_6_2020-03-07.png\n"
     ]
    },
    {
     "name": "stderr",
     "output_type": "stream",
     "text": [
      "100%|██████████| 4/4 [00:10<00:00,  2.61s/it]\n"
     ]
    },
    {
     "name": "stdout",
     "output_type": "stream",
     "text": [
      "Saving ../data/processed/MODIS_Aqua_L3_Land_Surface_Temp_Daily_Day/MODIS_Aqua_L3_Land_Surface_Temp_Daily_Day_Z_6_2020-03-08.png\n"
     ]
    },
    {
     "name": "stderr",
     "output_type": "stream",
     "text": [
      "100%|██████████| 4/4 [00:09<00:00,  2.27s/it]\n"
     ]
    },
    {
     "name": "stdout",
     "output_type": "stream",
     "text": [
      "Saving ../data/processed/MODIS_Aqua_L3_Land_Surface_Temp_Daily_Day/MODIS_Aqua_L3_Land_Surface_Temp_Daily_Day_Z_6_2020-03-09.png\n"
     ]
    },
    {
     "name": "stderr",
     "output_type": "stream",
     "text": [
      "100%|██████████| 4/4 [00:09<00:00,  2.36s/it]\n"
     ]
    },
    {
     "name": "stdout",
     "output_type": "stream",
     "text": [
      "Saving ../data/processed/MODIS_Aqua_L3_Land_Surface_Temp_Daily_Day/MODIS_Aqua_L3_Land_Surface_Temp_Daily_Day_Z_6_2020-03-10.png\n"
     ]
    },
    {
     "name": "stderr",
     "output_type": "stream",
     "text": [
      "100%|██████████| 4/4 [00:09<00:00,  2.42s/it]\n"
     ]
    },
    {
     "name": "stdout",
     "output_type": "stream",
     "text": [
      "Saving ../data/processed/MODIS_Aqua_L3_Land_Surface_Temp_Daily_Day/MODIS_Aqua_L3_Land_Surface_Temp_Daily_Day_Z_6_2020-03-11.png\n"
     ]
    },
    {
     "name": "stderr",
     "output_type": "stream",
     "text": [
      "100%|██████████| 4/4 [00:10<00:00,  2.60s/it]\n"
     ]
    },
    {
     "name": "stdout",
     "output_type": "stream",
     "text": [
      "Saving ../data/processed/MODIS_Aqua_L3_Land_Surface_Temp_Daily_Day/MODIS_Aqua_L3_Land_Surface_Temp_Daily_Day_Z_6_2020-03-12.png\n"
     ]
    },
    {
     "name": "stderr",
     "output_type": "stream",
     "text": [
      "100%|██████████| 4/4 [00:10<00:00,  2.57s/it]\n"
     ]
    },
    {
     "name": "stdout",
     "output_type": "stream",
     "text": [
      "Saving ../data/processed/MODIS_Aqua_L3_Land_Surface_Temp_Daily_Day/MODIS_Aqua_L3_Land_Surface_Temp_Daily_Day_Z_6_2020-03-13.png\n"
     ]
    },
    {
     "name": "stderr",
     "output_type": "stream",
     "text": [
      "100%|██████████| 4/4 [00:08<00:00,  2.24s/it]\n"
     ]
    },
    {
     "name": "stdout",
     "output_type": "stream",
     "text": [
      "Saving ../data/processed/MODIS_Aqua_L3_Land_Surface_Temp_Daily_Day/MODIS_Aqua_L3_Land_Surface_Temp_Daily_Day_Z_6_2020-03-14.png\n"
     ]
    },
    {
     "name": "stderr",
     "output_type": "stream",
     "text": [
      "100%|██████████| 4/4 [00:09<00:00,  2.44s/it]\n"
     ]
    },
    {
     "name": "stdout",
     "output_type": "stream",
     "text": [
      "Saving ../data/processed/MODIS_Aqua_L3_Land_Surface_Temp_Daily_Day/MODIS_Aqua_L3_Land_Surface_Temp_Daily_Day_Z_6_2020-03-15.png\n"
     ]
    },
    {
     "name": "stderr",
     "output_type": "stream",
     "text": [
      "100%|██████████| 4/4 [00:09<00:00,  2.43s/it]\n"
     ]
    },
    {
     "name": "stdout",
     "output_type": "stream",
     "text": [
      "Saving ../data/processed/MODIS_Aqua_L3_Land_Surface_Temp_Daily_Day/MODIS_Aqua_L3_Land_Surface_Temp_Daily_Day_Z_6_2020-03-16.png\n"
     ]
    },
    {
     "name": "stderr",
     "output_type": "stream",
     "text": [
      "100%|██████████| 4/4 [00:09<00:00,  2.40s/it]\n"
     ]
    },
    {
     "name": "stdout",
     "output_type": "stream",
     "text": [
      "Saving ../data/processed/MODIS_Aqua_L3_Land_Surface_Temp_Daily_Day/MODIS_Aqua_L3_Land_Surface_Temp_Daily_Day_Z_6_2020-03-17.png\n"
     ]
    },
    {
     "name": "stderr",
     "output_type": "stream",
     "text": [
      "100%|██████████| 4/4 [00:09<00:00,  2.39s/it]\n"
     ]
    },
    {
     "name": "stdout",
     "output_type": "stream",
     "text": [
      "Saving ../data/processed/MODIS_Aqua_L3_Land_Surface_Temp_Daily_Day/MODIS_Aqua_L3_Land_Surface_Temp_Daily_Day_Z_6_2020-03-18.png\n"
     ]
    },
    {
     "name": "stderr",
     "output_type": "stream",
     "text": [
      "100%|██████████| 4/4 [00:10<00:00,  2.58s/it]\n"
     ]
    },
    {
     "name": "stdout",
     "output_type": "stream",
     "text": [
      "Saving ../data/processed/MODIS_Aqua_L3_Land_Surface_Temp_Daily_Day/MODIS_Aqua_L3_Land_Surface_Temp_Daily_Day_Z_6_2020-03-19.png\n"
     ]
    },
    {
     "name": "stderr",
     "output_type": "stream",
     "text": [
      "100%|██████████| 4/4 [00:10<00:00,  2.60s/it]\n"
     ]
    },
    {
     "name": "stdout",
     "output_type": "stream",
     "text": [
      "Saving ../data/processed/MODIS_Aqua_L3_Land_Surface_Temp_Daily_Day/MODIS_Aqua_L3_Land_Surface_Temp_Daily_Day_Z_6_2020-03-20.png\n"
     ]
    },
    {
     "name": "stderr",
     "output_type": "stream",
     "text": [
      "100%|██████████| 4/4 [00:09<00:00,  2.33s/it]\n"
     ]
    },
    {
     "name": "stdout",
     "output_type": "stream",
     "text": [
      "Saving ../data/processed/MODIS_Aqua_L3_Land_Surface_Temp_Daily_Day/MODIS_Aqua_L3_Land_Surface_Temp_Daily_Day_Z_6_2020-03-21.png\n"
     ]
    },
    {
     "name": "stderr",
     "output_type": "stream",
     "text": [
      "100%|██████████| 4/4 [00:10<00:00,  2.62s/it]\n"
     ]
    },
    {
     "name": "stdout",
     "output_type": "stream",
     "text": [
      "Saving ../data/processed/MODIS_Aqua_L3_Land_Surface_Temp_Daily_Day/MODIS_Aqua_L3_Land_Surface_Temp_Daily_Day_Z_6_2020-03-22.png\n"
     ]
    },
    {
     "name": "stderr",
     "output_type": "stream",
     "text": [
      "100%|██████████| 4/4 [00:18<00:00,  4.71s/it]\n"
     ]
    },
    {
     "name": "stdout",
     "output_type": "stream",
     "text": [
      "Saving ../data/processed/MODIS_Aqua_L3_Land_Surface_Temp_Daily_Day/MODIS_Aqua_L3_Land_Surface_Temp_Daily_Day_Z_6_2020-03-23.png\n"
     ]
    },
    {
     "name": "stderr",
     "output_type": "stream",
     "text": [
      "100%|██████████| 4/4 [00:20<00:00,  5.08s/it]\n"
     ]
    },
    {
     "name": "stdout",
     "output_type": "stream",
     "text": [
      "Saving ../data/processed/MODIS_Aqua_L3_Land_Surface_Temp_Daily_Day/MODIS_Aqua_L3_Land_Surface_Temp_Daily_Day_Z_6_2020-03-24.png\n"
     ]
    },
    {
     "name": "stderr",
     "output_type": "stream",
     "text": [
      "100%|██████████| 4/4 [00:10<00:00,  2.54s/it]\n"
     ]
    },
    {
     "name": "stdout",
     "output_type": "stream",
     "text": [
      "Saving ../data/processed/MODIS_Aqua_L3_Land_Surface_Temp_Daily_Day/MODIS_Aqua_L3_Land_Surface_Temp_Daily_Day_Z_6_2020-03-25.png\n"
     ]
    },
    {
     "name": "stderr",
     "output_type": "stream",
     "text": [
      "100%|██████████| 4/4 [00:10<00:00,  2.54s/it]\n"
     ]
    },
    {
     "name": "stdout",
     "output_type": "stream",
     "text": [
      "Saving ../data/processed/MODIS_Aqua_L3_Land_Surface_Temp_Daily_Day/MODIS_Aqua_L3_Land_Surface_Temp_Daily_Day_Z_6_2020-03-26.png\n"
     ]
    },
    {
     "name": "stderr",
     "output_type": "stream",
     "text": [
      "100%|██████████| 4/4 [00:12<00:00,  3.19s/it]\n"
     ]
    },
    {
     "name": "stdout",
     "output_type": "stream",
     "text": [
      "Saving ../data/processed/MODIS_Aqua_L3_Land_Surface_Temp_Daily_Day/MODIS_Aqua_L3_Land_Surface_Temp_Daily_Day_Z_6_2020-03-27.png\n"
     ]
    },
    {
     "name": "stderr",
     "output_type": "stream",
     "text": [
      "100%|██████████| 4/4 [00:10<00:00,  2.57s/it]\n"
     ]
    },
    {
     "name": "stdout",
     "output_type": "stream",
     "text": [
      "Saving ../data/processed/MODIS_Aqua_L3_Land_Surface_Temp_Daily_Day/MODIS_Aqua_L3_Land_Surface_Temp_Daily_Day_Z_6_2020-03-28.png\n"
     ]
    },
    {
     "name": "stderr",
     "output_type": "stream",
     "text": [
      "100%|██████████| 4/4 [00:15<00:00,  3.78s/it]\n"
     ]
    },
    {
     "name": "stdout",
     "output_type": "stream",
     "text": [
      "Saving ../data/processed/MODIS_Aqua_L3_Land_Surface_Temp_Daily_Day/MODIS_Aqua_L3_Land_Surface_Temp_Daily_Day_Z_6_2020-03-29.png\n"
     ]
    },
    {
     "name": "stderr",
     "output_type": "stream",
     "text": [
      "100%|██████████| 4/4 [00:09<00:00,  2.41s/it]\n"
     ]
    },
    {
     "name": "stdout",
     "output_type": "stream",
     "text": [
      "Saving ../data/processed/MODIS_Aqua_L3_Land_Surface_Temp_Daily_Day/MODIS_Aqua_L3_Land_Surface_Temp_Daily_Day_Z_6_2020-03-30.png\n"
     ]
    },
    {
     "name": "stderr",
     "output_type": "stream",
     "text": [
      "100%|██████████| 4/4 [00:10<00:00,  2.62s/it]\n"
     ]
    },
    {
     "name": "stdout",
     "output_type": "stream",
     "text": [
      "Saving ../data/processed/MODIS_Aqua_L3_Land_Surface_Temp_Daily_Day/MODIS_Aqua_L3_Land_Surface_Temp_Daily_Day_Z_6_2020-03-31.png\n"
     ]
    },
    {
     "name": "stderr",
     "output_type": "stream",
     "text": [
      "100%|██████████| 4/4 [00:09<00:00,  2.43s/it]\n"
     ]
    },
    {
     "name": "stdout",
     "output_type": "stream",
     "text": [
      "Saving ../data/processed/MODIS_Aqua_L3_Land_Surface_Temp_Daily_Day/MODIS_Aqua_L3_Land_Surface_Temp_Daily_Day_Z_6_2020-04-01.png\n"
     ]
    },
    {
     "name": "stderr",
     "output_type": "stream",
     "text": [
      "100%|██████████| 4/4 [00:10<00:00,  2.64s/it]\n"
     ]
    },
    {
     "name": "stdout",
     "output_type": "stream",
     "text": [
      "Saving ../data/processed/MODIS_Aqua_L3_Land_Surface_Temp_Daily_Day/MODIS_Aqua_L3_Land_Surface_Temp_Daily_Day_Z_6_2020-04-02.png\n"
     ]
    },
    {
     "name": "stderr",
     "output_type": "stream",
     "text": [
      "100%|██████████| 4/4 [00:09<00:00,  2.48s/it]\n"
     ]
    },
    {
     "name": "stdout",
     "output_type": "stream",
     "text": [
      "Saving ../data/processed/MODIS_Aqua_L3_Land_Surface_Temp_Daily_Day/MODIS_Aqua_L3_Land_Surface_Temp_Daily_Day_Z_6_2020-04-03.png\n"
     ]
    },
    {
     "name": "stderr",
     "output_type": "stream",
     "text": [
      "100%|██████████| 4/4 [00:10<00:00,  2.66s/it]\n"
     ]
    },
    {
     "name": "stdout",
     "output_type": "stream",
     "text": [
      "Saving ../data/processed/MODIS_Aqua_L3_Land_Surface_Temp_Daily_Day/MODIS_Aqua_L3_Land_Surface_Temp_Daily_Day_Z_6_2020-04-04.png\n"
     ]
    },
    {
     "name": "stderr",
     "output_type": "stream",
     "text": [
      "100%|██████████| 4/4 [00:10<00:00,  2.63s/it]\n"
     ]
    },
    {
     "name": "stdout",
     "output_type": "stream",
     "text": [
      "Saving ../data/processed/MODIS_Aqua_L3_Land_Surface_Temp_Daily_Day/MODIS_Aqua_L3_Land_Surface_Temp_Daily_Day_Z_6_2020-04-05.png\n"
     ]
    },
    {
     "name": "stderr",
     "output_type": "stream",
     "text": [
      "100%|██████████| 4/4 [00:12<00:00,  3.10s/it]\n"
     ]
    },
    {
     "name": "stdout",
     "output_type": "stream",
     "text": [
      "Saving ../data/processed/MODIS_Aqua_L3_Land_Surface_Temp_Daily_Day/MODIS_Aqua_L3_Land_Surface_Temp_Daily_Day_Z_6_2020-04-06.png\n"
     ]
    },
    {
     "name": "stderr",
     "output_type": "stream",
     "text": [
      "100%|██████████| 4/4 [00:15<00:00,  3.85s/it]\n"
     ]
    },
    {
     "name": "stdout",
     "output_type": "stream",
     "text": [
      "Saving ../data/processed/MODIS_Aqua_L3_Land_Surface_Temp_Daily_Day/MODIS_Aqua_L3_Land_Surface_Temp_Daily_Day_Z_6_2020-04-07.png\n"
     ]
    },
    {
     "name": "stderr",
     "output_type": "stream",
     "text": [
      "100%|██████████| 4/4 [00:11<00:00,  2.77s/it]\n"
     ]
    },
    {
     "name": "stdout",
     "output_type": "stream",
     "text": [
      "Saving ../data/processed/MODIS_Aqua_L3_Land_Surface_Temp_Daily_Day/MODIS_Aqua_L3_Land_Surface_Temp_Daily_Day_Z_6_2020-04-08.png\n"
     ]
    },
    {
     "name": "stderr",
     "output_type": "stream",
     "text": [
      "100%|██████████| 4/4 [00:11<00:00,  2.76s/it]\n"
     ]
    },
    {
     "name": "stdout",
     "output_type": "stream",
     "text": [
      "Saving ../data/processed/MODIS_Aqua_L3_Land_Surface_Temp_Daily_Day/MODIS_Aqua_L3_Land_Surface_Temp_Daily_Day_Z_6_2020-04-09.png\n"
     ]
    },
    {
     "name": "stderr",
     "output_type": "stream",
     "text": [
      "100%|██████████| 4/4 [00:09<00:00,  2.49s/it]\n"
     ]
    },
    {
     "name": "stdout",
     "output_type": "stream",
     "text": [
      "Saving ../data/processed/MODIS_Aqua_L3_Land_Surface_Temp_Daily_Day/MODIS_Aqua_L3_Land_Surface_Temp_Daily_Day_Z_6_2020-04-10.png\n"
     ]
    },
    {
     "name": "stderr",
     "output_type": "stream",
     "text": [
      "100%|██████████| 4/4 [00:11<00:00,  2.89s/it]\n"
     ]
    },
    {
     "name": "stdout",
     "output_type": "stream",
     "text": [
      "Saving ../data/processed/MODIS_Aqua_L3_Land_Surface_Temp_Daily_Day/MODIS_Aqua_L3_Land_Surface_Temp_Daily_Day_Z_6_2020-04-11.png\n"
     ]
    },
    {
     "name": "stderr",
     "output_type": "stream",
     "text": [
      "100%|██████████| 4/4 [00:10<00:00,  2.63s/it]\n"
     ]
    },
    {
     "name": "stdout",
     "output_type": "stream",
     "text": [
      "Saving ../data/processed/MODIS_Aqua_L3_Land_Surface_Temp_Daily_Day/MODIS_Aqua_L3_Land_Surface_Temp_Daily_Day_Z_6_2020-04-12.png\n"
     ]
    },
    {
     "name": "stderr",
     "output_type": "stream",
     "text": [
      "100%|██████████| 4/4 [00:11<00:00,  2.78s/it]\n"
     ]
    },
    {
     "name": "stdout",
     "output_type": "stream",
     "text": [
      "Saving ../data/processed/MODIS_Aqua_L3_Land_Surface_Temp_Daily_Day/MODIS_Aqua_L3_Land_Surface_Temp_Daily_Day_Z_6_2020-04-13.png\n"
     ]
    },
    {
     "name": "stderr",
     "output_type": "stream",
     "text": [
      "100%|██████████| 4/4 [00:11<00:00,  2.93s/it]\n"
     ]
    },
    {
     "name": "stdout",
     "output_type": "stream",
     "text": [
      "Saving ../data/processed/MODIS_Aqua_L3_Land_Surface_Temp_Daily_Day/MODIS_Aqua_L3_Land_Surface_Temp_Daily_Day_Z_6_2020-04-14.png\n"
     ]
    },
    {
     "name": "stderr",
     "output_type": "stream",
     "text": [
      "100%|██████████| 4/4 [00:13<00:00,  3.27s/it]\n"
     ]
    },
    {
     "name": "stdout",
     "output_type": "stream",
     "text": [
      "Saving ../data/processed/MODIS_Aqua_L3_Land_Surface_Temp_Daily_Day/MODIS_Aqua_L3_Land_Surface_Temp_Daily_Day_Z_6_2020-04-15.png\n"
     ]
    },
    {
     "name": "stderr",
     "output_type": "stream",
     "text": [
      "100%|██████████| 4/4 [00:11<00:00,  2.86s/it]\n"
     ]
    },
    {
     "name": "stdout",
     "output_type": "stream",
     "text": [
      "Saving ../data/processed/MODIS_Aqua_L3_Land_Surface_Temp_Daily_Day/MODIS_Aqua_L3_Land_Surface_Temp_Daily_Day_Z_6_2020-04-16.png\n"
     ]
    },
    {
     "name": "stderr",
     "output_type": "stream",
     "text": [
      "100%|██████████| 4/4 [00:10<00:00,  2.59s/it]\n"
     ]
    },
    {
     "name": "stdout",
     "output_type": "stream",
     "text": [
      "Saving ../data/processed/MODIS_Aqua_L3_Land_Surface_Temp_Daily_Day/MODIS_Aqua_L3_Land_Surface_Temp_Daily_Day_Z_6_2020-04-17.png\n"
     ]
    },
    {
     "name": "stderr",
     "output_type": "stream",
     "text": [
      "100%|██████████| 4/4 [00:11<00:00,  2.78s/it]\n"
     ]
    },
    {
     "name": "stdout",
     "output_type": "stream",
     "text": [
      "Saving ../data/processed/MODIS_Aqua_L3_Land_Surface_Temp_Daily_Day/MODIS_Aqua_L3_Land_Surface_Temp_Daily_Day_Z_6_2020-04-18.png\n"
     ]
    },
    {
     "name": "stderr",
     "output_type": "stream",
     "text": [
      "100%|██████████| 4/4 [00:11<00:00,  2.81s/it]\n"
     ]
    },
    {
     "name": "stdout",
     "output_type": "stream",
     "text": [
      "Saving ../data/processed/MODIS_Aqua_L3_Land_Surface_Temp_Daily_Day/MODIS_Aqua_L3_Land_Surface_Temp_Daily_Day_Z_6_2020-04-19.png\n"
     ]
    },
    {
     "name": "stderr",
     "output_type": "stream",
     "text": [
      "100%|██████████| 4/4 [00:11<00:00,  2.84s/it]\n"
     ]
    },
    {
     "name": "stdout",
     "output_type": "stream",
     "text": [
      "Saving ../data/processed/MODIS_Aqua_L3_Land_Surface_Temp_Daily_Day/MODIS_Aqua_L3_Land_Surface_Temp_Daily_Day_Z_6_2020-04-20.png\n"
     ]
    },
    {
     "name": "stderr",
     "output_type": "stream",
     "text": [
      "100%|██████████| 4/4 [00:11<00:00,  2.82s/it]\n"
     ]
    },
    {
     "name": "stdout",
     "output_type": "stream",
     "text": [
      "Saving ../data/processed/MODIS_Aqua_L3_Land_Surface_Temp_Daily_Day/MODIS_Aqua_L3_Land_Surface_Temp_Daily_Day_Z_6_2020-04-21.png\n"
     ]
    },
    {
     "name": "stderr",
     "output_type": "stream",
     "text": [
      "100%|██████████| 4/4 [00:10<00:00,  2.65s/it]\n"
     ]
    },
    {
     "name": "stdout",
     "output_type": "stream",
     "text": [
      "Saving ../data/processed/MODIS_Aqua_L3_Land_Surface_Temp_Daily_Day/MODIS_Aqua_L3_Land_Surface_Temp_Daily_Day_Z_6_2020-04-22.png\n"
     ]
    },
    {
     "name": "stderr",
     "output_type": "stream",
     "text": [
      "100%|██████████| 4/4 [00:10<00:00,  2.72s/it]\n"
     ]
    },
    {
     "name": "stdout",
     "output_type": "stream",
     "text": [
      "Saving ../data/processed/MODIS_Aqua_L3_Land_Surface_Temp_Daily_Day/MODIS_Aqua_L3_Land_Surface_Temp_Daily_Day_Z_6_2020-04-23.png\n"
     ]
    },
    {
     "name": "stderr",
     "output_type": "stream",
     "text": [
      "100%|██████████| 4/4 [00:12<00:00,  3.25s/it]\n"
     ]
    },
    {
     "name": "stdout",
     "output_type": "stream",
     "text": [
      "Saving ../data/processed/MODIS_Aqua_L3_Land_Surface_Temp_Daily_Day/MODIS_Aqua_L3_Land_Surface_Temp_Daily_Day_Z_6_2020-04-24.png\n"
     ]
    },
    {
     "name": "stderr",
     "output_type": "stream",
     "text": [
      "100%|██████████| 4/4 [00:11<00:00,  2.86s/it]\n"
     ]
    },
    {
     "name": "stdout",
     "output_type": "stream",
     "text": [
      "Saving ../data/processed/MODIS_Aqua_L3_Land_Surface_Temp_Daily_Day/MODIS_Aqua_L3_Land_Surface_Temp_Daily_Day_Z_6_2020-04-25.png\n"
     ]
    },
    {
     "name": "stderr",
     "output_type": "stream",
     "text": [
      "100%|██████████| 4/4 [00:11<00:00,  2.91s/it]\n"
     ]
    },
    {
     "name": "stdout",
     "output_type": "stream",
     "text": [
      "Saving ../data/processed/MODIS_Aqua_L3_Land_Surface_Temp_Daily_Day/MODIS_Aqua_L3_Land_Surface_Temp_Daily_Day_Z_6_2020-04-26.png\n"
     ]
    },
    {
     "name": "stderr",
     "output_type": "stream",
     "text": [
      "100%|██████████| 4/4 [00:10<00:00,  2.67s/it]\n"
     ]
    },
    {
     "name": "stdout",
     "output_type": "stream",
     "text": [
      "Saving ../data/processed/MODIS_Aqua_L3_Land_Surface_Temp_Daily_Day/MODIS_Aqua_L3_Land_Surface_Temp_Daily_Day_Z_6_2020-04-27.png\n"
     ]
    },
    {
     "name": "stderr",
     "output_type": "stream",
     "text": [
      "100%|██████████| 4/4 [00:09<00:00,  2.48s/it]\n"
     ]
    },
    {
     "name": "stdout",
     "output_type": "stream",
     "text": [
      "Saving ../data/processed/MODIS_Aqua_L3_Land_Surface_Temp_Daily_Day/MODIS_Aqua_L3_Land_Surface_Temp_Daily_Day_Z_6_2020-04-28.png\n"
     ]
    },
    {
     "name": "stderr",
     "output_type": "stream",
     "text": [
      "100%|██████████| 4/4 [00:09<00:00,  2.41s/it]\n"
     ]
    },
    {
     "name": "stdout",
     "output_type": "stream",
     "text": [
      "Saving ../data/processed/MODIS_Aqua_L3_Land_Surface_Temp_Daily_Day/MODIS_Aqua_L3_Land_Surface_Temp_Daily_Day_Z_6_2020-04-29.png\n"
     ]
    },
    {
     "name": "stderr",
     "output_type": "stream",
     "text": [
      "100%|██████████| 4/4 [00:11<00:00,  2.96s/it]\n"
     ]
    },
    {
     "name": "stdout",
     "output_type": "stream",
     "text": [
      "Saving ../data/processed/MODIS_Aqua_L3_Land_Surface_Temp_Daily_Day/MODIS_Aqua_L3_Land_Surface_Temp_Daily_Day_Z_6_2020-04-30.png\n"
     ]
    },
    {
     "name": "stderr",
     "output_type": "stream",
     "text": [
      "100%|██████████| 4/4 [00:10<00:00,  2.65s/it]\n"
     ]
    },
    {
     "name": "stdout",
     "output_type": "stream",
     "text": [
      "Saving ../data/processed/MODIS_Aqua_L3_Land_Surface_Temp_Daily_Day/MODIS_Aqua_L3_Land_Surface_Temp_Daily_Day_Z_6_2020-05-01.png\n"
     ]
    },
    {
     "name": "stderr",
     "output_type": "stream",
     "text": [
      "100%|██████████| 4/4 [00:13<00:00,  3.47s/it]\n"
     ]
    },
    {
     "name": "stdout",
     "output_type": "stream",
     "text": [
      "Saving ../data/processed/MODIS_Aqua_L3_Land_Surface_Temp_Daily_Day/MODIS_Aqua_L3_Land_Surface_Temp_Daily_Day_Z_6_2020-05-02.png\n"
     ]
    },
    {
     "name": "stderr",
     "output_type": "stream",
     "text": [
      "100%|██████████| 4/4 [00:10<00:00,  2.55s/it]\n"
     ]
    },
    {
     "name": "stdout",
     "output_type": "stream",
     "text": [
      "Saving ../data/processed/MODIS_Aqua_L3_Land_Surface_Temp_Daily_Day/MODIS_Aqua_L3_Land_Surface_Temp_Daily_Day_Z_6_2020-05-03.png\n"
     ]
    },
    {
     "name": "stderr",
     "output_type": "stream",
     "text": [
      "100%|██████████| 4/4 [00:11<00:00,  2.98s/it]\n"
     ]
    },
    {
     "name": "stdout",
     "output_type": "stream",
     "text": [
      "Saving ../data/processed/MODIS_Aqua_L3_Land_Surface_Temp_Daily_Day/MODIS_Aqua_L3_Land_Surface_Temp_Daily_Day_Z_6_2020-05-04.png\n"
     ]
    },
    {
     "name": "stderr",
     "output_type": "stream",
     "text": [
      "100%|██████████| 4/4 [00:10<00:00,  2.64s/it]\n"
     ]
    },
    {
     "name": "stdout",
     "output_type": "stream",
     "text": [
      "Saving ../data/processed/MODIS_Aqua_L3_Land_Surface_Temp_Daily_Day/MODIS_Aqua_L3_Land_Surface_Temp_Daily_Day_Z_6_2020-05-05.png\n"
     ]
    },
    {
     "name": "stderr",
     "output_type": "stream",
     "text": [
      "100%|██████████| 4/4 [00:13<00:00,  3.43s/it]\n"
     ]
    },
    {
     "name": "stdout",
     "output_type": "stream",
     "text": [
      "Saving ../data/processed/MODIS_Aqua_L3_Land_Surface_Temp_Daily_Day/MODIS_Aqua_L3_Land_Surface_Temp_Daily_Day_Z_6_2020-05-06.png\n"
     ]
    },
    {
     "name": "stderr",
     "output_type": "stream",
     "text": [
      "100%|██████████| 4/4 [00:11<00:00,  2.78s/it]\n"
     ]
    },
    {
     "name": "stdout",
     "output_type": "stream",
     "text": [
      "Saving ../data/processed/MODIS_Aqua_L3_Land_Surface_Temp_Daily_Day/MODIS_Aqua_L3_Land_Surface_Temp_Daily_Day_Z_6_2020-05-07.png\n"
     ]
    },
    {
     "name": "stderr",
     "output_type": "stream",
     "text": [
      "100%|██████████| 4/4 [00:10<00:00,  2.51s/it]\n"
     ]
    },
    {
     "name": "stdout",
     "output_type": "stream",
     "text": [
      "Saving ../data/processed/MODIS_Aqua_L3_Land_Surface_Temp_Daily_Day/MODIS_Aqua_L3_Land_Surface_Temp_Daily_Day_Z_6_2020-05-08.png\n"
     ]
    },
    {
     "name": "stderr",
     "output_type": "stream",
     "text": [
      "100%|██████████| 4/4 [00:12<00:00,  3.04s/it]\n"
     ]
    },
    {
     "name": "stdout",
     "output_type": "stream",
     "text": [
      "Saving ../data/processed/MODIS_Aqua_L3_Land_Surface_Temp_Daily_Day/MODIS_Aqua_L3_Land_Surface_Temp_Daily_Day_Z_6_2020-05-09.png\n"
     ]
    },
    {
     "name": "stderr",
     "output_type": "stream",
     "text": [
      "100%|██████████| 4/4 [00:09<00:00,  2.40s/it]\n"
     ]
    },
    {
     "name": "stdout",
     "output_type": "stream",
     "text": [
      "Saving ../data/processed/MODIS_Aqua_L3_Land_Surface_Temp_Daily_Day/MODIS_Aqua_L3_Land_Surface_Temp_Daily_Day_Z_6_2020-05-10.png\n"
     ]
    },
    {
     "name": "stderr",
     "output_type": "stream",
     "text": [
      "100%|██████████| 4/4 [00:10<00:00,  2.73s/it]\n"
     ]
    },
    {
     "name": "stdout",
     "output_type": "stream",
     "text": [
      "Saving ../data/processed/MODIS_Aqua_L3_Land_Surface_Temp_Daily_Day/MODIS_Aqua_L3_Land_Surface_Temp_Daily_Day_Z_6_2020-05-11.png\n"
     ]
    },
    {
     "name": "stderr",
     "output_type": "stream",
     "text": [
      "100%|██████████| 4/4 [00:14<00:00,  3.54s/it]\n"
     ]
    },
    {
     "name": "stdout",
     "output_type": "stream",
     "text": [
      "Saving ../data/processed/MODIS_Aqua_L3_Land_Surface_Temp_Daily_Day/MODIS_Aqua_L3_Land_Surface_Temp_Daily_Day_Z_6_2020-05-12.png\n"
     ]
    },
    {
     "name": "stderr",
     "output_type": "stream",
     "text": [
      "100%|██████████| 4/4 [00:13<00:00,  3.38s/it]\n"
     ]
    },
    {
     "name": "stdout",
     "output_type": "stream",
     "text": [
      "Saving ../data/processed/MODIS_Aqua_L3_Land_Surface_Temp_Daily_Day/MODIS_Aqua_L3_Land_Surface_Temp_Daily_Day_Z_6_2020-05-13.png\n"
     ]
    },
    {
     "name": "stderr",
     "output_type": "stream",
     "text": [
      "100%|██████████| 4/4 [00:11<00:00,  2.83s/it]\n"
     ]
    },
    {
     "name": "stdout",
     "output_type": "stream",
     "text": [
      "Saving ../data/processed/MODIS_Aqua_L3_Land_Surface_Temp_Daily_Day/MODIS_Aqua_L3_Land_Surface_Temp_Daily_Day_Z_6_2020-05-14.png\n"
     ]
    },
    {
     "name": "stderr",
     "output_type": "stream",
     "text": [
      "100%|██████████| 4/4 [00:10<00:00,  2.63s/it]\n"
     ]
    },
    {
     "name": "stdout",
     "output_type": "stream",
     "text": [
      "Saving ../data/processed/MODIS_Aqua_L3_Land_Surface_Temp_Daily_Day/MODIS_Aqua_L3_Land_Surface_Temp_Daily_Day_Z_6_2020-05-15.png\n"
     ]
    },
    {
     "name": "stderr",
     "output_type": "stream",
     "text": [
      "100%|██████████| 4/4 [00:10<00:00,  2.52s/it]\n"
     ]
    },
    {
     "name": "stdout",
     "output_type": "stream",
     "text": [
      "Saving ../data/processed/MODIS_Aqua_L3_Land_Surface_Temp_Daily_Day/MODIS_Aqua_L3_Land_Surface_Temp_Daily_Day_Z_6_2020-05-16.png\n"
     ]
    },
    {
     "name": "stderr",
     "output_type": "stream",
     "text": [
      "100%|██████████| 4/4 [00:11<00:00,  2.92s/it]\n"
     ]
    },
    {
     "name": "stdout",
     "output_type": "stream",
     "text": [
      "Saving ../data/processed/MODIS_Aqua_L3_Land_Surface_Temp_Daily_Day/MODIS_Aqua_L3_Land_Surface_Temp_Daily_Day_Z_6_2020-05-17.png\n"
     ]
    },
    {
     "name": "stderr",
     "output_type": "stream",
     "text": [
      "100%|██████████| 4/4 [00:13<00:00,  3.47s/it]\n"
     ]
    },
    {
     "name": "stdout",
     "output_type": "stream",
     "text": [
      "Saving ../data/processed/MODIS_Aqua_L3_Land_Surface_Temp_Daily_Day/MODIS_Aqua_L3_Land_Surface_Temp_Daily_Day_Z_6_2020-05-18.png\n"
     ]
    },
    {
     "name": "stderr",
     "output_type": "stream",
     "text": [
      "100%|██████████| 4/4 [00:11<00:00,  2.86s/it]\n"
     ]
    },
    {
     "name": "stdout",
     "output_type": "stream",
     "text": [
      "Saving ../data/processed/MODIS_Aqua_L3_Land_Surface_Temp_Daily_Day/MODIS_Aqua_L3_Land_Surface_Temp_Daily_Day_Z_6_2020-05-19.png\n"
     ]
    },
    {
     "name": "stderr",
     "output_type": "stream",
     "text": [
      "100%|██████████| 4/4 [00:10<00:00,  2.72s/it]\n"
     ]
    },
    {
     "name": "stdout",
     "output_type": "stream",
     "text": [
      "Saving ../data/processed/MODIS_Aqua_L3_Land_Surface_Temp_Daily_Day/MODIS_Aqua_L3_Land_Surface_Temp_Daily_Day_Z_6_2020-05-20.png\n"
     ]
    },
    {
     "name": "stderr",
     "output_type": "stream",
     "text": [
      "100%|██████████| 4/4 [00:11<00:00,  2.90s/it]\n"
     ]
    },
    {
     "name": "stdout",
     "output_type": "stream",
     "text": [
      "Saving ../data/processed/MODIS_Aqua_L3_Land_Surface_Temp_Daily_Day/MODIS_Aqua_L3_Land_Surface_Temp_Daily_Day_Z_6_2020-05-21.png\n"
     ]
    },
    {
     "name": "stderr",
     "output_type": "stream",
     "text": [
      "100%|██████████| 4/4 [00:11<00:00,  2.97s/it]\n"
     ]
    },
    {
     "name": "stdout",
     "output_type": "stream",
     "text": [
      "Saving ../data/processed/MODIS_Aqua_L3_Land_Surface_Temp_Daily_Day/MODIS_Aqua_L3_Land_Surface_Temp_Daily_Day_Z_6_2020-05-22.png\n"
     ]
    },
    {
     "name": "stderr",
     "output_type": "stream",
     "text": [
      "100%|██████████| 4/4 [00:10<00:00,  2.56s/it]\n"
     ]
    },
    {
     "name": "stdout",
     "output_type": "stream",
     "text": [
      "Saving ../data/processed/MODIS_Aqua_L3_Land_Surface_Temp_Daily_Day/MODIS_Aqua_L3_Land_Surface_Temp_Daily_Day_Z_6_2020-05-23.png\n"
     ]
    },
    {
     "name": "stderr",
     "output_type": "stream",
     "text": [
      "100%|██████████| 4/4 [00:17<00:00,  4.37s/it]\n"
     ]
    },
    {
     "name": "stdout",
     "output_type": "stream",
     "text": [
      "Saving ../data/processed/MODIS_Aqua_L3_Land_Surface_Temp_Daily_Day/MODIS_Aqua_L3_Land_Surface_Temp_Daily_Day_Z_6_2020-05-24.png\n"
     ]
    },
    {
     "name": "stderr",
     "output_type": "stream",
     "text": [
      "100%|██████████| 4/4 [00:11<00:00,  2.90s/it]\n"
     ]
    },
    {
     "name": "stdout",
     "output_type": "stream",
     "text": [
      "Saving ../data/processed/MODIS_Aqua_L3_Land_Surface_Temp_Daily_Day/MODIS_Aqua_L3_Land_Surface_Temp_Daily_Day_Z_6_2020-05-25.png\n"
     ]
    },
    {
     "name": "stderr",
     "output_type": "stream",
     "text": [
      "100%|██████████| 4/4 [00:18<00:00,  4.65s/it]\n"
     ]
    },
    {
     "name": "stdout",
     "output_type": "stream",
     "text": [
      "Saving ../data/processed/MODIS_Aqua_L3_Land_Surface_Temp_Daily_Day/MODIS_Aqua_L3_Land_Surface_Temp_Daily_Day_Z_6_2020-05-26.png\n"
     ]
    },
    {
     "name": "stderr",
     "output_type": "stream",
     "text": [
      "100%|██████████| 4/4 [00:12<00:00,  3.04s/it]\n"
     ]
    },
    {
     "name": "stdout",
     "output_type": "stream",
     "text": [
      "Saving ../data/processed/MODIS_Aqua_L3_Land_Surface_Temp_Daily_Day/MODIS_Aqua_L3_Land_Surface_Temp_Daily_Day_Z_6_2020-05-27.png\n"
     ]
    },
    {
     "name": "stderr",
     "output_type": "stream",
     "text": [
      "100%|██████████| 4/4 [00:10<00:00,  2.69s/it]\n"
     ]
    },
    {
     "name": "stdout",
     "output_type": "stream",
     "text": [
      "Saving ../data/processed/MODIS_Aqua_L3_Land_Surface_Temp_Daily_Day/MODIS_Aqua_L3_Land_Surface_Temp_Daily_Day_Z_6_2020-05-28.png\n"
     ]
    },
    {
     "name": "stderr",
     "output_type": "stream",
     "text": [
      "100%|██████████| 4/4 [00:13<00:00,  3.27s/it]\n"
     ]
    },
    {
     "name": "stdout",
     "output_type": "stream",
     "text": [
      "Saving ../data/processed/MODIS_Aqua_L3_Land_Surface_Temp_Daily_Day/MODIS_Aqua_L3_Land_Surface_Temp_Daily_Day_Z_6_2020-05-29.png\n"
     ]
    },
    {
     "name": "stderr",
     "output_type": "stream",
     "text": [
      "100%|██████████| 4/4 [00:13<00:00,  3.47s/it]\n"
     ]
    },
    {
     "name": "stdout",
     "output_type": "stream",
     "text": [
      "Saving ../data/processed/MODIS_Aqua_L3_Land_Surface_Temp_Daily_Day/MODIS_Aqua_L3_Land_Surface_Temp_Daily_Day_Z_6_2020-05-30.png\n"
     ]
    }
   ],
   "source": [
    "start_date = datetime(2020,1,1)\n",
    "end_date = datetime(2020,5,31)\n",
    "current_date = start_date\n",
    "while current_date < end_date:\n",
    "    date_str = current_date.strftime(\"%Y-%m-%d\")\n",
    "    tiled = tile_images_region(\n",
    "        **UK_COORDINATES,\n",
    "        layer=LAYER_NAME,\n",
    "        tile_matrix_set=TILE_MATRIX_SET,\n",
    "        date=date_str,\n",
    "        z=Z,\n",
    "        image_format=\"png\"\n",
    "    )\n",
    "    filepath = f\"../data/processed/{LAYER_NAME}/{LAYER_NAME}_Z_{Z}_{date_str}.png\"\n",
    "    print(f\"Saving {filepath}\")\n",
    "    Image.fromarray(tiled).save(filepath)\n",
    "    current_date = current_date + timedelta(days=1)"
   ]
  },
  {
   "cell_type": "code",
   "execution_count": null,
   "metadata": {},
   "outputs": [],
   "source": []
  }
 ],
 "metadata": {
  "kernelspec": {
   "display_name": "Python 3",
   "language": "python",
   "name": "python3"
  },
  "language_info": {
   "codemirror_mode": {
    "name": "ipython",
    "version": 3
   },
   "file_extension": ".py",
   "mimetype": "text/x-python",
   "name": "python",
   "nbconvert_exporter": "python",
   "pygments_lexer": "ipython3",
   "version": "3.6.8"
  }
 },
 "nbformat": 4,
 "nbformat_minor": 2
}
