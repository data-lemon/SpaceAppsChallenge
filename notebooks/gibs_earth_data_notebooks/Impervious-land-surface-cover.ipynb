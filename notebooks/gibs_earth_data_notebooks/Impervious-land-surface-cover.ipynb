{
 "cells": [
  {
   "cell_type": "code",
   "execution_count": 1,
   "metadata": {},
   "outputs": [],
   "source": [
    "%matplotlib inline\n",
    "%load_ext lab_black\n",
    "%load_ext autoreload\n",
    "%autoreload 2"
   ]
  },
  {
   "cell_type": "code",
   "execution_count": 2,
   "metadata": {},
   "outputs": [],
   "source": [
    "import random\n",
    "import numpy as np\n",
    "import pandas as pd\n",
    "import matplotlib.pyplot as plt\n",
    "import seaborn as sns"
   ]
  },
  {
   "cell_type": "code",
   "execution_count": 3,
   "metadata": {},
   "outputs": [],
   "source": [
    "import requests\n",
    "from PIL import Image\n",
    "from datetime import datetime, timedelta\n",
    "import time\n",
    "from tqdm import tqdm\n",
    "from typing import List\n",
    "import os\n",
    "import pathlib\n",
    "from io import BytesIO"
   ]
  },
  {
   "cell_type": "code",
   "execution_count": 4,
   "metadata": {},
   "outputs": [],
   "source": [
    "URL = (\n",
    "    \"https://gibs-{s}.earthdata.nasa.gov/wmts/epsg4326/best/{layer}\"\n",
    "    + \"/default/{date}/{tile_matrix_set}/{z}/{y}/{x}.{image_format}\"\n",
    ")"
   ]
  },
  {
   "cell_type": "code",
   "execution_count": 5,
   "metadata": {},
   "outputs": [],
   "source": [
    "def get_tile_as_image(\n",
    "    layer: str,\n",
    "    date: str,\n",
    "    tile_matrix_set: str,\n",
    "    z: int,\n",
    "    y: int,\n",
    "    x: int,\n",
    "    image_format: str,\n",
    "    s: str = \"a\",\n",
    ") -> Image:\n",
    "    \"\"\"\n",
    "    Returns an image tile from an image layer\n",
    "    \n",
    "    Args:\n",
    "        s (str): Sub-doomain. Either \"a\", \"b\", \"c\"\n",
    "        layer (str): Layer name\n",
    "        date (str): Date in format \"YYYY-MM-DD\"\n",
    "        tile_matrix_set (str): The tile matrix format\n",
    "        z (int): Zoom level e.g. 0\n",
    "        x (int): The x position e.g. 1\n",
    "        y (int): The y posiiton e.g. 2\n",
    "        image_format (str): The image format e.g. png\n",
    "    \n",
    "    Returns:\n",
    "        Image: PIL.Image object of image tile\n",
    "    \"\"\"\n",
    "    response = requests.get(\n",
    "        URL.format(\n",
    "            s=\"c\",\n",
    "            layer=layer,\n",
    "            date=date,\n",
    "            tile_matrix_set=tile_matrix_set,\n",
    "            z=z,\n",
    "            y=y,\n",
    "            x=x,\n",
    "            image_format=image_format,\n",
    "        )\n",
    "    )\n",
    "    if response.status_code == 200:\n",
    "        return Image.open(BytesIO(response.content))\n",
    "    else:\n",
    "        raise ValueError(\"Unable to retrieve image\")"
   ]
  },
  {
   "cell_type": "code",
   "execution_count": 6,
   "metadata": {},
   "outputs": [],
   "source": [
    "def tile_images_region(\n",
    "    x_limits: List[int],\n",
    "    y_limits: List[int],\n",
    "    layer: str,\n",
    "    date: str,\n",
    "    tile_matrix_set: str,\n",
    "    z: int,\n",
    "    image_format: str,\n",
    "    s: str = \"a\",\n",
    "):\n",
    "    \"\"\"Builds tiled image at specified zoom level within limits provided.\n",
    "    \n",
    "    Args:\n",
    "        s (str): Sub-domain. Either \"a\", \"b\", \"c\"\n",
    "        layer (str): Layer name\n",
    "        date (str): Date in format \"YYYY-MM-DD\"\n",
    "        tile_matrix_set (str): The tile matrix format\n",
    "        z (int): Zoom level e.g. 0\n",
    "        x (int): The x position e.g. 1\n",
    "        y (int): The y posiiton e.g. 2\n",
    "        image_format (str): The image format e.g. png\n",
    "    \n",
    "    Returns:\n",
    "        Image: PIL.Image object of tiled image\n",
    "    \"\"\"\n",
    "    columns = []\n",
    "    for x in range(*x_limits):\n",
    "        _column = []\n",
    "        for y in range(*y_limits):\n",
    "            tile = get_tile_as_image(\n",
    "                s=s,\n",
    "                layer=layer,\n",
    "                date=date,\n",
    "                tile_matrix_set=tile_matrix_set,\n",
    "                z=z,\n",
    "                x=x,\n",
    "                y=y,\n",
    "                image_format=image_format,\n",
    "            )\n",
    "            _column.append(np.array(tile.convert(\"RGBA\")))\n",
    "        _column = np.vstack(_column)\n",
    "        columns.append(_column)\n",
    "    return np.hstack(columns)"
   ]
  },
  {
   "cell_type": "code",
   "execution_count": 7,
   "metadata": {},
   "outputs": [],
   "source": [
    "LAYER_NAME = \"Landsat_Global_Man-made_Impervious_Surface\"\n",
    "TILE_MATRIX_SET = \"31.25m\"\n",
    "DATE = \"2010-06-01\"\n",
    "Z = 6"
   ]
  },
  {
   "cell_type": "code",
   "execution_count": 8,
   "metadata": {},
   "outputs": [],
   "source": [
    "UK_COORDINATES = {\"x_limits\": [37, 41], \"y_limits\": [6, 9]}"
   ]
  },
  {
   "cell_type": "code",
   "execution_count": 9,
   "metadata": {},
   "outputs": [],
   "source": [
    "pathlib.Path(f\"../data/processed/{LAYER_NAME}/\").mkdir(exist_ok=True, parents=True)"
   ]
  },
  {
   "cell_type": "code",
   "execution_count": 10,
   "metadata": {},
   "outputs": [],
   "source": [
    "tiled = tile_images_region(\n",
    "    **UK_COORDINATES,\n",
    "    layer=LAYER_NAME,\n",
    "    tile_matrix_set=TILE_MATRIX_SET,\n",
    "    date=DATE,\n",
    "    z=Z,\n",
    "    image_format=\"png\"\n",
    ")"
   ]
  },
  {
   "cell_type": "code",
   "execution_count": 11,
   "metadata": {},
   "outputs": [],
   "source": [
    "filepath = f\"../data/processed/{LAYER_NAME}/{LAYER_NAME}_Z_{Z}_{DATE}.png\""
   ]
  },
  {
   "cell_type": "code",
   "execution_count": 12,
   "metadata": {},
   "outputs": [],
   "source": [
    "Image.fromarray(tiled).save(filepath)"
   ]
  }
 ],
 "metadata": {
  "kernelspec": {
   "display_name": "Python 3",
   "language": "python",
   "name": "python3"
  },
  "language_info": {
   "codemirror_mode": {
    "name": "ipython",
    "version": 3
   },
   "file_extension": ".py",
   "mimetype": "text/x-python",
   "name": "python",
   "nbconvert_exporter": "python",
   "pygments_lexer": "ipython3",
   "version": "3.6.8"
  }
 },
 "nbformat": 4,
 "nbformat_minor": 2
}
